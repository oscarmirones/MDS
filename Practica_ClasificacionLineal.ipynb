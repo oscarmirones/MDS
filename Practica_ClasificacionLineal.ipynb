{
 "cells": [
  {
   "cell_type": "markdown",
   "metadata": {},
   "source": [
    "# Alumno: Oscar Mirones Alonso\n",
    "## Práctica de Clasificación Lineal: Regresión Logística"
   ]
  },
  {
   "cell_type": "markdown",
   "metadata": {},
   "source": [
    "Daniel Garcia Diaz (garciad@ifca.unican.es)"
   ]
  },
  {
   "cell_type": "markdown",
   "metadata": {},
   "source": [
    "En esta práctica utilizaremos el dataset MNIST, compuesto por 60000 imágenes de train y 10000 imagenes de test (de 28x28 pixeles) correspondientes a distintas versiones digitalizadas de los dígitos 0, ..., 9. \n",
    "\n",
    "Descargamos el dataset que vamos a utilizar."
   ]
  },
  {
   "cell_type": "code",
   "execution_count": 1,
   "metadata": {},
   "outputs": [
    {
     "ename": "ERROR",
     "evalue": "Error in setwd(\"\"): no es posible cambiar el directorio de trabajo\n",
     "output_type": "error",
     "traceback": [
      "Error in setwd(\"\"): no es posible cambiar el directorio de trabajo\nTraceback:\n",
      "1. setwd(\"\")"
     ]
    }
   ],
   "source": [
    "#Set the directory to be able to read the data properly\n",
    "rm(list=ls())\n",
    "setwd(\"\")\n",
    "\n",
    "#Install the necessary packages\n",
    "#install.packages(\"R.utils\")"
   ]
  },
  {
   "cell_type": "code",
   "execution_count": 2,
   "metadata": {},
   "outputs": [],
   "source": [
    "# download data from http://yann.lecun.com/exdb/mnist/\n",
    "download.file(\"http://yann.lecun.com/exdb/mnist/train-images-idx3-ubyte.gz\",\n",
    "              \"train-images-idx3-ubyte.gz\")\n",
    "download.file(\"http://yann.lecun.com/exdb/mnist/train-labels-idx1-ubyte.gz\",\n",
    "              \"train-labels-idx1-ubyte.gz\")\n",
    "download.file(\"http://yann.lecun.com/exdb/mnist/t10k-images-idx3-ubyte.gz\",\n",
    "              \"t10k-images-idx3-ubyte.gz\")\n",
    "download.file(\"http://yann.lecun.com/exdb/mnist/t10k-labels-idx1-ubyte.gz\",\n",
    "              \"t10k-labels-idx1-ubyte.gz\")\n",
    "\n",
    "# gunzip the files\n",
    "R.utils::gunzip(\"train-images-idx3-ubyte.gz\")\n",
    "R.utils::gunzip(\"train-labels-idx1-ubyte.gz\")\n",
    "R.utils::gunzip(\"t10k-images-idx3-ubyte.gz\")\n",
    "R.utils::gunzip(\"t10k-labels-idx1-ubyte.gz\")"
   ]
  },
  {
   "cell_type": "markdown",
   "metadata": {},
   "source": [
    "4 archivos diferentes para crear los datasets de train (x_train->train-image e y_train->train-labels) y de test (x->t10k-images e y->t10k-labels).\n",
    "\n",
    "Funciones para cargar los archivos\n"
   ]
  },
  {
   "cell_type": "code",
   "execution_count": 2,
   "metadata": {},
   "outputs": [],
   "source": [
    "# load image files\n",
    "load_image_file = function(filename) {\n",
    "  ret = list()\n",
    "  f = file(filename, 'rb')\n",
    "  readBin(f, 'integer', n = 1, size = 4, endian = 'big')\n",
    "  n    = readBin(f, 'integer', n = 1, size = 4, endian = 'big')\n",
    "  nrow = readBin(f, 'integer', n = 1, size = 4, endian = 'big')\n",
    "  ncol = readBin(f, 'integer', n = 1, size = 4, endian = 'big')\n",
    "  x = readBin(f, 'integer', n = n * nrow * ncol, size = 1, signed = FALSE)\n",
    "  close(f)\n",
    "  data.frame(matrix(x, ncol = nrow * ncol, byrow = TRUE))\n",
    "}\n",
    "\n",
    "# load label files\n",
    "load_label_file = function(filename) {\n",
    "  f = file(filename, 'rb')\n",
    "  readBin(f, 'integer', n = 1, size = 4, endian = 'big')\n",
    "  n = readBin(f, 'integer', n = 1, size = 4, endian = 'big')\n",
    "  y = readBin(f, 'integer', n = n, size = 1, signed = FALSE)\n",
    "  close(f)\n",
    "  y\n",
    "}"
   ]
  },
  {
   "cell_type": "code",
   "execution_count": 3,
   "metadata": {},
   "outputs": [],
   "source": [
    "# load images\n",
    "x_train = load_image_file(\"train-images-idx3-ubyte\")\n",
    "x_test  = load_image_file(\"t10k-images-idx3-ubyte\")\n",
    "\n",
    "# load labels\n",
    "y_train = load_label_file(\"train-labels-idx1-ubyte\")\n",
    "y_test  = load_label_file(\"t10k-labels-idx1-ubyte\")"
   ]
  },
  {
   "cell_type": "markdown",
   "metadata": {},
   "source": [
    "Dibujamos los 6 primeros digitos para ver el dataset que tenemos"
   ]
  },
  {
   "cell_type": "code",
   "execution_count": 5,
   "metadata": {},
   "outputs": [
    {
     "data": {
      "image/png": "[encoded data removed]",
      "text/plain": [
       "Plot with title \"2\""
      ]
     },
     "metadata": {
      "image/png": {
       "height": 420,
       "width": 420
      },
      "text/plain": {
       "height": 420,
       "width": 420
      }
     },
     "output_type": "display_data"
    }
   ],
   "source": [
    "# Dibujamos los 6 primeros dígitos de la base de datos\n",
    "par(mfrow = c(2,3))\n",
    "for (i in 1:6) {\n",
    "    image(matrix(as.matrix(x_train[i,1:784]), nrow = 28, ncol = 28))\n",
    "    title(y_train[i])\n",
    "}"
   ]
  },
  {
   "cell_type": "code",
   "execution_count": 6,
   "metadata": {},
   "outputs": [
    {
     "data": {
      "image/png": "[encoded data removed]",
      "text/plain": [
       "Plot with title \"Histogram of y_train\""
      ]
     },
     "metadata": {
      "image/png": {
       "height": 420,
       "width": 420
      },
      "text/plain": {
       "height": 420,
       "width": 420
      }
     },
     "output_type": "display_data"
    }
   ],
   "source": [
    "# Cada dígito está igualmente representado en la muestra\n",
    "hist(y_train, breaks = -0.5:9.5)"
   ]
  },
  {
   "cell_type": "markdown",
   "metadata": {},
   "source": [
    "El objetivo es clasificar correctamente cada una de las imágenes, utilizando el valor de los 784 pixeles. Este problema se encuandra dentro de la clasificación multi-categoría (tenemos 10 posibles clases a predicir para cada dato). \n",
    "\n",
    "Para simplificar estos problemas, se suelen consideran tantos problemas binarios (predecir sí o no) independientes como categorías se tengan. Es decir, un modelo para clasificar 0 (si o no), otro para 1, etc. En este ejemplo, consideramos el dígito '9' y el objetivo es predecir si una imagen es 9 o no."
   ]
  },
  {
   "cell_type": "code",
   "execution_count": 7,
   "metadata": {},
   "outputs": [],
   "source": [
    "# Seleccionamos un dígito concreto para tratar de predecirlo. Por ejemplo el nueve\n",
    "# y9 = 1 si el dígito es 9 y 0 en caso contrario\n",
    "y9 <- y_train;\n",
    "y9[which(y_train != 9)] <- 0 ; y9[which(y_train == 9)] <- 1"
   ]
  },
  {
   "cell_type": "code",
   "execution_count": 8,
   "metadata": {},
   "outputs": [],
   "source": [
    "# Construimos un dataframe para entrenar el modelo\n",
    "dat <- data.frame(y9,x_train)"
   ]
  },
  {
   "cell_type": "markdown",
   "metadata": {},
   "source": [
    "Como el tamaño de la muestra es muy grande (60000 imagenes), seleccionamos una muestra para entrenar; por ejemplo, los 5000 primeros dígitos."
   ]
  },
  {
   "cell_type": "code",
   "execution_count": 10,
   "metadata": {},
   "outputs": [],
   "source": [
    "i<- 1:5000;\n",
    "j<-5001:10000\n",
    "#Random sampling\n",
    "#i<-sample(1:dim(x)[1],5000);\n",
    "datT <- dat[i,]\n",
    "datt <- dat[j,]"
   ]
  },
  {
   "cell_type": "markdown",
   "metadata": {},
   "source": [
    "Aunque no es el modelo adecuado, ya que no está acotada y puede tomar valores mucho mayores que 1 o menores que 0, construimos primero un modelo de regresión lineal para estos datos."
   ]
  },
  {
   "cell_type": "code",
   "execution_count": 11,
   "metadata": {},
   "outputs": [
    {
     "data": {
      "image/png": "[encoded data removed]",
      "text/plain": [
       "Plot with title \"Histogram of out\""
      ]
     },
     "metadata": {
      "image/png": {
       "height": 420,
       "width": 420
      },
      "text/plain": {
       "height": 420,
       "width": 420
      }
     },
     "output_type": "display_data"
    }
   ],
   "source": [
    "# Entrenamos primero un modelo lineal\n",
    "model <- lm(datT$y9~., data = datT)\n",
    "out <- model$fitted.values\n",
    "# El histograma muestra valores predichos (incluyendo negativos y mayores que 1)\n",
    "hist(out)"
   ]
  },
  {
   "cell_type": "markdown",
   "metadata": {},
   "source": [
    "Hacemos la salida del modelo binaria considerando el umbral en 0.5 (a modo de probabilidad) y calculamos la tasa de acierto con los datos de train"
   ]
  },
  {
   "cell_type": "code",
   "execution_count": 12,
   "metadata": {},
   "outputs": [
    {
     "data": {
      "text/html": [
       "96.18"
      ],
      "text/latex": [
       "96.18"
      ],
      "text/markdown": [
       "96.18"
      ],
      "text/plain": [
       "[1] 96.18"
      ]
     },
     "metadata": {},
     "output_type": "display_data"
    }
   ],
   "source": [
    "# Hacemos binaria la salida considerando el umbral 0.5 (a modo de probabilidad)\n",
    "outbin <- as.double(out > 0.5)\n",
    "\n",
    "# Tasa de acierto (en entrenamiento)\n",
    "100*sum(diag(table(datT[,1], outbin))) / length(outbin)"
   ]
  },
  {
   "cell_type": "code",
   "execution_count": 13,
   "metadata": {},
   "outputs": [
    {
     "name": "stderr",
     "output_type": "stream",
     "text": [
      "Warning message in predict.lm(object = model, newdata = datt):\n",
      "\"prediction from a rank-deficient fit may be misleading\"\n"
     ]
    },
    {
     "data": {
      "text/html": [
       "94.68"
      ],
      "text/latex": [
       "94.68"
      ],
      "text/markdown": [
       "94.68"
      ],
      "text/plain": [
       "[1] 94.68"
      ]
     },
     "metadata": {},
     "output_type": "display_data"
    }
   ],
   "source": [
    "# Tasa de acierto de test\n",
    "out1<- predict(object=model, newdata = datt);\n",
    "outbin1 <- as.double(out1 > 0.5)\n",
    "100*sum(diag(table(datt[,1], outbin1))) / length(outbin1)"
   ]
  },
  {
   "cell_type": "markdown",
   "metadata": {},
   "source": [
    "Ahora construimos un modelo de regresión logística utilizando la función 'glm' con la familia 'family = binomial(link = \"logit\")'"
   ]
  },
  {
   "cell_type": "code",
   "execution_count": 14,
   "metadata": {},
   "outputs": [
    {
     "name": "stderr",
     "output_type": "stream",
     "text": [
      "Warning message:\n",
      "\"glm.fit: fitted probabilities numerically 0 or 1 occurred\"\n"
     ]
    },
    {
     "data": {
      "text/html": [
       "97.94"
      ],
      "text/latex": [
       "97.94"
      ],
      "text/markdown": [
       "97.94"
      ],
      "text/plain": [
       "[1] 97.94"
      ]
     },
     "metadata": {},
     "output_type": "display_data"
    }
   ],
   "source": [
    "model1 <- glm(datT$y9~., data = datT, family = binomial(link = \"logit\"))\n",
    "\n",
    "\n",
    "# Problemas de convergencia con tantas variables\n",
    "# Coefficients: (138 not defined because of singularities)\n",
    "# Tasa de acierto (Train)\n",
    "out2 <- model1$fitted.values\n",
    "outbin2 <- as.double(out2 > 0.5)\n",
    "100*sum(diag(table(datT[,1], outbin2))) / length(outbin2)"
   ]
  },
  {
   "cell_type": "code",
   "execution_count": 15,
   "metadata": {},
   "outputs": [
    {
     "data": {
      "image/png": "[encoded data removed]",
      "text/plain": [
       "Plot with title \"Histogram of out2\""
      ]
     },
     "metadata": {
      "image/png": {
       "height": 420,
       "width": 420
      },
      "text/plain": {
       "height": 420,
       "width": 420
      }
     },
     "output_type": "display_data"
    }
   ],
   "source": [
    "hist(out2)"
   ]
  },
  {
   "cell_type": "code",
   "execution_count": 16,
   "metadata": {},
   "outputs": [
    {
     "name": "stderr",
     "output_type": "stream",
     "text": [
      "Warning message in predict.lm(object, newdata, se.fit, scale = 1, type = if (type == :\n",
      "\"prediction from a rank-deficient fit may be misleading\"\n"
     ]
    },
    {
     "data": {
      "text/html": [
       "92.18"
      ],
      "text/latex": [
       "92.18"
      ],
      "text/markdown": [
       "92.18"
      ],
      "text/plain": [
       "[1] 92.18"
      ]
     },
     "metadata": {},
     "output_type": "display_data"
    }
   ],
   "source": [
    "# Tasa de acierto (test)\n",
    "out3<- predict(object=model1, newdata = datt);\n",
    "outbin3 <- as.double(out3 > 0.5)\n",
    "100*sum(diag(table(datt[,1], outbin3))) / length(outbin3)"
   ]
  },
  {
   "cell_type": "markdown",
   "metadata": {},
   "source": [
    "Las inestabilidades numéricas se producen por la alta dimensionalidad de los datos. Algunos de los coeficientes resultan redundantes y el proceso de optimización no converge.\n",
    "### (195 not defined because of singularities)."
   ]
  },
  {
   "cell_type": "markdown",
   "metadata": {},
   "source": [
    "Una solución a este problema es reducir la dimensionalidad del conjunto de predictores. Para ello existen técnicas eficientes (como los métodos de regularización o las Componentes Principales) que se verán más adelante. En esta práctica utilizamos un entresacado de información, considerando sólo uno de cada 20 pixeles."
   ]
  },
  {
   "cell_type": "code",
   "execution_count": 34,
   "metadata": {},
   "outputs": [
    {
     "ename": "ERROR",
     "evalue": "Error in model.frame.default(formula = datT$y9 ~ ., data = datT[, j], : invalid type (NULL) for variable 'datT$y9'\n",
     "output_type": "error",
     "traceback": [
      "Error in model.frame.default(formula = datT$y9 ~ ., data = datT[, j], : invalid type (NULL) for variable 'datT$y9'\nTraceback:\n",
      "1. lm(datT$y9 ~ ., data = datT[, j])",
      "2. eval(mf, parent.frame())",
      "3. eval(mf, parent.frame())",
      "4. stats::model.frame(formula = datT$y9 ~ ., data = datT[, j], drop.unused.levels = TRUE)",
      "5. model.frame.default(formula = datT$y9 ~ ., data = datT[, j], \n .     drop.unused.levels = TRUE)"
     ]
    }
   ],
   "source": [
    "#Modelo de regresión lineal\n",
    "j<-seq(1,784,20)\n",
    "model <- lm(datT$y9~., data = datT[,j])\n",
    "out <- model$fitted.values\n",
    "outbin <- as.double(out > 0.5)\n",
    "100*sum(diag(table(datT[,1], outbin))) / length(outbin)\n",
    "out1<- predict(object=model, newdata = datt[,j]);\n",
    "outbin1 <- as.double(out1 > 0.5)\n",
    "100*sum(diag(table(datt[,1], outbin1))) / length(outbin1)"
   ]
  },
  {
   "cell_type": "code",
   "execution_count": 18,
   "metadata": {},
   "outputs": [
    {
     "name": "stderr",
     "output_type": "stream",
     "text": [
      "Warning message:\n",
      "\"glm.fit: fitted probabilities numerically 0 or 1 occurred\"\n"
     ]
    },
    {
     "data": {
      "text/html": [
       "92.02"
      ],
      "text/latex": [
       "92.02"
      ],
      "text/markdown": [
       "92.02"
      ],
      "text/plain": [
       "[1] 92.02"
      ]
     },
     "metadata": {},
     "output_type": "display_data"
    },
    {
     "name": "stderr",
     "output_type": "stream",
     "text": [
      "Warning message in predict.lm(object, newdata, se.fit, scale = 1, type = if (type == :\n",
      "\"prediction from a rank-deficient fit may be misleading\"\n"
     ]
    },
    {
     "data": {
      "text/html": [
       "92.26"
      ],
      "text/latex": [
       "92.26"
      ],
      "text/markdown": [
       "92.26"
      ],
      "text/plain": [
       "[1] 92.26"
      ]
     },
     "metadata": {},
     "output_type": "display_data"
    }
   ],
   "source": [
    "#Regresión logística\n",
    "j<-seq(1,784,20)\n",
    "model <- glm(datT$y9~., data = datT[,j], family = binomial(link = \"logit\"))\n",
    "out <- model$fitted.values\n",
    "outbin <- as.double(out > 0.5)\n",
    "100*sum(diag(table(datT[,1], outbin))) / length(outbin)\n",
    "out1<- predict(object=model, newdata = datt[,j]);\n",
    "outbin1 <- as.double(out1 > 0.5)\n",
    "100*sum(diag(table(datt[,1], outbin1))) / length(outbin1)"
   ]
  },
  {
   "cell_type": "markdown",
   "metadata": {},
   "source": [
    "PRACTICA 1: Construir un modelo de clasificación para cada dígito, y obtener una ranking de los dígitos en base a su capacidad predictiva (el primero el que mejor se predice, etc.). Para evaluar la capacidad predictiva considerando el error de test obtenido al separar aleatoriamente la muestra en un conjunto de train (n=10000) y el resto de test. \n",
    "\n",
    "Nota: usar la función 'sample'. \n",
    "Nota2: Elige un entresacado óptimo para que la capacidad predictiva no se reduzca y se reduzca la dimensión el máximo posible."
   ]
  },
  {
   "cell_type": "code",
   "execution_count": 4,
   "metadata": {},
   "outputs": [
    {
     "name": "stderr",
     "output_type": "stream",
     "text": [
      "Warning message:\n",
      "\"glm.fit: fitted probabilities numerically 0 or 1 occurred\"\n",
      "Warning message in predict.lm(object, newdata, se.fit, scale = 1, type = if (type == :\n",
      "\"prediction from a rank-deficient fit may be misleading\"\n",
      "Warning message:\n",
      "\"glm.fit: fitted probabilities numerically 0 or 1 occurred\"\n",
      "Warning message in predict.lm(object, newdata, se.fit, scale = 1, type = if (type == :\n",
      "\"prediction from a rank-deficient fit may be misleading\"\n",
      "Warning message:\n",
      "\"glm.fit: fitted probabilities numerically 0 or 1 occurred\"\n",
      "Warning message in predict.lm(object, newdata, se.fit, scale = 1, type = if (type == :\n",
      "\"prediction from a rank-deficient fit may be misleading\"\n",
      "Warning message:\n",
      "\"glm.fit: fitted probabilities numerically 0 or 1 occurred\"\n",
      "Warning message in predict.lm(object, newdata, se.fit, scale = 1, type = if (type == :\n",
      "\"prediction from a rank-deficient fit may be misleading\"\n",
      "Warning message:\n",
      "\"glm.fit: fitted probabilities numerically 0 or 1 occurred\"\n",
      "Warning message in predict.lm(object, newdata, se.fit, scale = 1, type = if (type == :\n",
      "\"prediction from a rank-deficient fit may be misleading\"\n",
      "Warning message:\n",
      "\"glm.fit: fitted probabilities numerically 0 or 1 occurred\"\n",
      "Warning message in predict.lm(object, newdata, se.fit, scale = 1, type = if (type == :\n",
      "\"prediction from a rank-deficient fit may be misleading\"\n",
      "Warning message:\n",
      "\"glm.fit: fitted probabilities numerically 0 or 1 occurred\"\n",
      "Warning message in predict.lm(object, newdata, se.fit, scale = 1, type = if (type == :\n",
      "\"prediction from a rank-deficient fit may be misleading\"\n",
      "Warning message:\n",
      "\"glm.fit: algorithm did not converge\"\n",
      "Warning message:\n",
      "\"glm.fit: fitted probabilities numerically 0 or 1 occurred\"\n",
      "Warning message in predict.lm(object, newdata, se.fit, scale = 1, type = if (type == :\n",
      "\"prediction from a rank-deficient fit may be misleading\"\n",
      "Warning message:\n",
      "\"glm.fit: fitted probabilities numerically 0 or 1 occurred\"\n",
      "Warning message in predict.lm(object, newdata, se.fit, scale = 1, type = if (type == :\n",
      "\"prediction from a rank-deficient fit may be misleading\"\n",
      "Warning message:\n",
      "\"glm.fit: fitted probabilities numerically 0 or 1 occurred\"\n",
      "Warning message in predict.lm(object, newdata, se.fit, scale = 1, type = if (type == :\n",
      "\"prediction from a rank-deficient fit may be misleading\"\n"
     ]
    }
   ],
   "source": [
    "train.acc <- c()\n",
    "test.acc <- c()\n",
    "son <- c()\n",
    "noson <- c()\n",
    "for(numbers in 0:9){\n",
    "    y1 <- y_train;\n",
    "    y1[which(y_train != numbers)] <- 0 ; y1[which(y_train == numbers)] <- 1\n",
    "    noson[numbers+1] = length(which(y_train != numbers))\n",
    "    son[numbers+1] = length(which(y_train == numbers))\n",
    "    dat <- data.frame(y1,x_train)\n",
    "\n",
    "    i<-sample(1:dim(x_train)[1],10000);\n",
    "    j<- setdiff(1:dim(x_train)[1],i)[1:10000]\n",
    "    datT <- dat[i,]\n",
    "    datt <- dat[j,]\n",
    "\n",
    "    #seleccionamos 1 de cada 20 pixeles\n",
    "    j<-seq(1,784,20)\n",
    "    #entrenamos nuestro modelo logístico\n",
    "    model1 <- glm(datT$y1~., data = datT[,j], family = binomial(link = \"logit\"))\n",
    "    out1 <- model1$fitted.values\n",
    "    outbin1 <- as.double(out1 > 0.5)\n",
    "    train.acc[numbers + 1 ] = 100*sum(diag(table(datT[,1], outbin1))) / length(outbin1)\n",
    "    out11<- predict(object=model1, newdata = datt[,j]);\n",
    "    outbin11 <- as.double(out11 > 0.5)\n",
    "    test.acc[numbers + 1] = 100*sum(diag(table(datt[,1], outbin11))) / length(outbin11)\n",
    "}"
   ]
  },
  {
   "cell_type": "code",
   "execution_count": 94,
   "metadata": {},
   "outputs": [
    {
     "data": {
      "text/html": [
       "<ol class=list-inline>\n",
       "\t<li>5923</li>\n",
       "\t<li>6742</li>\n",
       "\t<li>5958</li>\n",
       "\t<li>6131</li>\n",
       "\t<li>5842</li>\n",
       "\t<li>5421</li>\n",
       "\t<li>5918</li>\n",
       "\t<li>6265</li>\n",
       "\t<li>5851</li>\n",
       "\t<li>5949</li>\n",
       "</ol>\n"
      ],
      "text/latex": [
       "\\begin{enumerate*}\n",
       "\\item 5923\n",
       "\\item 6742\n",
       "\\item 5958\n",
       "\\item 6131\n",
       "\\item 5842\n",
       "\\item 5421\n",
       "\\item 5918\n",
       "\\item 6265\n",
       "\\item 5851\n",
       "\\item 5949\n",
       "\\end{enumerate*}\n"
      ],
      "text/markdown": [
       "1. 5923\n",
       "2. 6742\n",
       "3. 5958\n",
       "4. 6131\n",
       "5. 5842\n",
       "6. 5421\n",
       "7. 5918\n",
       "8. 6265\n",
       "9. 5851\n",
       "10. 5949\n",
       "\n",
       "\n"
      ],
      "text/plain": [
       " [1] 5923 6742 5958 6131 5842 5421 5918 6265 5851 5949"
      ]
     },
     "metadata": {},
     "output_type": "display_data"
    },
    {
     "data": {
      "text/html": [
       "<ol class=list-inline>\n",
       "\t<li>54077</li>\n",
       "\t<li>53258</li>\n",
       "\t<li>54042</li>\n",
       "\t<li>53869</li>\n",
       "\t<li>54158</li>\n",
       "\t<li>54579</li>\n",
       "\t<li>54082</li>\n",
       "\t<li>53735</li>\n",
       "\t<li>54149</li>\n",
       "\t<li>54051</li>\n",
       "</ol>\n"
      ],
      "text/latex": [
       "\\begin{enumerate*}\n",
       "\\item 54077\n",
       "\\item 53258\n",
       "\\item 54042\n",
       "\\item 53869\n",
       "\\item 54158\n",
       "\\item 54579\n",
       "\\item 54082\n",
       "\\item 53735\n",
       "\\item 54149\n",
       "\\item 54051\n",
       "\\end{enumerate*}\n"
      ],
      "text/markdown": [
       "1. 54077\n",
       "2. 53258\n",
       "3. 54042\n",
       "4. 53869\n",
       "5. 54158\n",
       "6. 54579\n",
       "7. 54082\n",
       "8. 53735\n",
       "9. 54149\n",
       "10. 54051\n",
       "\n",
       "\n"
      ],
      "text/plain": [
       " [1] 54077 53258 54042 53869 54158 54579 54082 53735 54149 54051"
      ]
     },
     "metadata": {},
     "output_type": "display_data"
    }
   ],
   "source": [
    "son\n",
    "noson"
   ]
  },
  {
   "cell_type": "code",
   "execution_count": 5,
   "metadata": {},
   "outputs": [
    {
     "data": {
      "text/html": [
       "<ol class=list-inline>\n",
       "\t<li>96.76</li>\n",
       "\t<li>96.19</li>\n",
       "\t<li>94.83</li>\n",
       "\t<li>93.16</li>\n",
       "\t<li>93.99</li>\n",
       "\t<li>92.75</li>\n",
       "\t<li>93.48</li>\n",
       "\t<li>95.19</li>\n",
       "\t<li>92.55</li>\n",
       "\t<li>92.27</li>\n",
       "</ol>\n"
      ],
      "text/latex": [
       "\\begin{enumerate*}\n",
       "\\item 96.76\n",
       "\\item 96.19\n",
       "\\item 94.83\n",
       "\\item 93.16\n",
       "\\item 93.99\n",
       "\\item 92.75\n",
       "\\item 93.48\n",
       "\\item 95.19\n",
       "\\item 92.55\n",
       "\\item 92.27\n",
       "\\end{enumerate*}\n"
      ],
      "text/markdown": [
       "1. 96.76\n",
       "2. 96.19\n",
       "3. 94.83\n",
       "4. 93.16\n",
       "5. 93.99\n",
       "6. 92.75\n",
       "7. 93.48\n",
       "8. 95.19\n",
       "9. 92.55\n",
       "10. 92.27\n",
       "\n",
       "\n"
      ],
      "text/plain": [
       " [1] 96.76 96.19 94.83 93.16 93.99 92.75 93.48 95.19 92.55 92.27"
      ]
     },
     "metadata": {},
     "output_type": "display_data"
    },
    {
     "data": {
      "text/html": [
       "<ol class=list-inline>\n",
       "\t<li>96.37</li>\n",
       "\t<li>95.99</li>\n",
       "\t<li>94.52</li>\n",
       "\t<li>92.13</li>\n",
       "\t<li>93.83</li>\n",
       "\t<li>92.65</li>\n",
       "\t<li>93.15</li>\n",
       "\t<li>94.84</li>\n",
       "\t<li>92.78</li>\n",
       "\t<li>91.4</li>\n",
       "</ol>\n"
      ],
      "text/latex": [
       "\\begin{enumerate*}\n",
       "\\item 96.37\n",
       "\\item 95.99\n",
       "\\item 94.52\n",
       "\\item 92.13\n",
       "\\item 93.83\n",
       "\\item 92.65\n",
       "\\item 93.15\n",
       "\\item 94.84\n",
       "\\item 92.78\n",
       "\\item 91.4\n",
       "\\end{enumerate*}\n"
      ],
      "text/markdown": [
       "1. 96.37\n",
       "2. 95.99\n",
       "3. 94.52\n",
       "4. 92.13\n",
       "5. 93.83\n",
       "6. 92.65\n",
       "7. 93.15\n",
       "8. 94.84\n",
       "9. 92.78\n",
       "10. 91.4\n",
       "\n",
       "\n"
      ],
      "text/plain": [
       " [1] 96.37 95.99 94.52 92.13 93.83 92.65 93.15 94.84 92.78 91.40"
      ]
     },
     "metadata": {},
     "output_type": "display_data"
    }
   ],
   "source": [
    "train.acc\n",
    "test.acc"
   ]
  },
  {
   "cell_type": "markdown",
   "metadata": {},
   "source": [
    "Observamos el ranking de mejor a peor preedicción para cada dígito."
   ]
  },
  {
   "cell_type": "code",
   "execution_count": 6,
   "metadata": {},
   "outputs": [
    {
     "data": {
      "text/html": [
       "<ol class=list-inline>\n",
       "\t<li>0</li>\n",
       "\t<li>1</li>\n",
       "\t<li>7</li>\n",
       "\t<li>2</li>\n",
       "\t<li>4</li>\n",
       "\t<li>6</li>\n",
       "\t<li>8</li>\n",
       "\t<li>5</li>\n",
       "\t<li>3</li>\n",
       "\t<li>9</li>\n",
       "</ol>\n"
      ],
      "text/latex": [
       "\\begin{enumerate*}\n",
       "\\item 0\n",
       "\\item 1\n",
       "\\item 7\n",
       "\\item 2\n",
       "\\item 4\n",
       "\\item 6\n",
       "\\item 8\n",
       "\\item 5\n",
       "\\item 3\n",
       "\\item 9\n",
       "\\end{enumerate*}\n"
      ],
      "text/markdown": [
       "1. 0\n",
       "2. 1\n",
       "3. 7\n",
       "4. 2\n",
       "5. 4\n",
       "6. 6\n",
       "7. 8\n",
       "8. 5\n",
       "9. 3\n",
       "10. 9\n",
       "\n",
       "\n"
      ],
      "text/plain": [
       " [1] 0 1 7 2 4 6 8 5 3 9"
      ]
     },
     "metadata": {},
     "output_type": "display_data"
    }
   ],
   "source": [
    "sort(test.acc, index.return = TRUE, decreasing = TRUE)$ix -1"
   ]
  },
  {
   "cell_type": "markdown",
   "metadata": {},
   "source": [
    "PRACTICA 2: Tener en cuenta la variabilidad del error de test a la hora de construir el ranking anterior. Para ello, además de calcular la tasa de acierto para cada dígito, considerar también un \"intervalo de confianza\" obtenido como la dispersión (desviación típica) de 10 medidas de test obtenidas con 10 muestras aleatorias distintas. ¿Existe algún dígito que pueda predecirse significativamente mejor que los demás?"
   ]
  },
  {
   "cell_type": "code",
   "execution_count": 40,
   "metadata": {},
   "outputs": [
    {
     "name": "stderr",
     "output_type": "stream",
     "text": [
      "Warning message:\n",
      "\"glm.fit: fitted probabilities numerically 0 or 1 occurred\"\n",
      "Warning message in predict.lm(object, newdata, se.fit, scale = 1, type = if (type == :\n",
      "\"prediction from a rank-deficient fit may be misleading\"\n",
      "Warning message:\n",
      "\"glm.fit: algorithm did not converge\"\n",
      "Warning message:\n",
      "\"glm.fit: fitted probabilities numerically 0 or 1 occurred\"\n",
      "Warning message in predict.lm(object, newdata, se.fit, scale = 1, type = if (type == :\n",
      "\"prediction from a rank-deficient fit may be misleading\"\n",
      "Warning message:\n",
      "\"glm.fit: fitted probabilities numerically 0 or 1 occurred\"\n",
      "Warning message in predict.lm(object, newdata, se.fit, scale = 1, type = if (type == :\n",
      "\"prediction from a rank-deficient fit may be misleading\"\n",
      "Warning message:\n",
      "\"glm.fit: fitted probabilities numerically 0 or 1 occurred\"\n",
      "Warning message in predict.lm(object, newdata, se.fit, scale = 1, type = if (type == :\n",
      "\"prediction from a rank-deficient fit may be misleading\"\n",
      "Warning message:\n",
      "\"glm.fit: fitted probabilities numerically 0 or 1 occurred\"\n",
      "Warning message in predict.lm(object, newdata, se.fit, scale = 1, type = if (type == :\n",
      "\"prediction from a rank-deficient fit may be misleading\"\n",
      "Warning message:\n",
      "\"glm.fit: fitted probabilities numerically 0 or 1 occurred\"\n",
      "Warning message in predict.lm(object, newdata, se.fit, scale = 1, type = if (type == :\n",
      "\"prediction from a rank-deficient fit may be misleading\"\n",
      "Warning message:\n",
      "\"glm.fit: fitted probabilities numerically 0 or 1 occurred\"\n",
      "Warning message in predict.lm(object, newdata, se.fit, scale = 1, type = if (type == :\n",
      "\"prediction from a rank-deficient fit may be misleading\"\n",
      "Warning message:\n",
      "\"glm.fit: algorithm did not converge\"\n",
      "Warning message:\n",
      "\"glm.fit: fitted probabilities numerically 0 or 1 occurred\"\n",
      "Warning message in predict.lm(object, newdata, se.fit, scale = 1, type = if (type == :\n",
      "\"prediction from a rank-deficient fit may be misleading\"\n",
      "Warning message:\n",
      "\"glm.fit: fitted probabilities numerically 0 or 1 occurred\"\n",
      "Warning message in predict.lm(object, newdata, se.fit, scale = 1, type = if (type == :\n",
      "\"prediction from a rank-deficient fit may be misleading\"\n",
      "Warning message:\n",
      "\"glm.fit: fitted probabilities numerically 0 or 1 occurred\"\n",
      "Warning message in predict.lm(object, newdata, se.fit, scale = 1, type = if (type == :\n",
      "\"prediction from a rank-deficient fit may be misleading\"\n",
      "Warning message:\n",
      "\"glm.fit: fitted probabilities numerically 0 or 1 occurred\"\n",
      "Warning message in predict.lm(object, newdata, se.fit, scale = 1, type = if (type == :\n",
      "\"prediction from a rank-deficient fit may be misleading\"\n",
      "Warning message:\n",
      "\"glm.fit: algorithm did not converge\"\n",
      "Warning message:\n",
      "\"glm.fit: fitted probabilities numerically 0 or 1 occurred\"\n",
      "Warning message in predict.lm(object, newdata, se.fit, scale = 1, type = if (type == :\n",
      "\"prediction from a rank-deficient fit may be misleading\"\n",
      "Warning message:\n",
      "\"glm.fit: fitted probabilities numerically 0 or 1 occurred\"\n",
      "Warning message in predict.lm(object, newdata, se.fit, scale = 1, type = if (type == :\n",
      "\"prediction from a rank-deficient fit may be misleading\"\n",
      "Warning message:\n",
      "\"glm.fit: fitted probabilities numerically 0 or 1 occurred\"\n",
      "Warning message in predict.lm(object, newdata, se.fit, scale = 1, type = if (type == :\n",
      "\"prediction from a rank-deficient fit may be misleading\"\n",
      "Warning message:\n",
      "\"glm.fit: fitted probabilities numerically 0 or 1 occurred\"\n",
      "Warning message in predict.lm(object, newdata, se.fit, scale = 1, type = if (type == :\n",
      "\"prediction from a rank-deficient fit may be misleading\"\n",
      "Warning message:\n",
      "\"glm.fit: fitted probabilities numerically 0 or 1 occurred\"\n",
      "Warning message in predict.lm(object, newdata, se.fit, scale = 1, type = if (type == :\n",
      "\"prediction from a rank-deficient fit may be misleading\"\n",
      "Warning message:\n",
      "\"glm.fit: fitted probabilities numerically 0 or 1 occurred\"\n",
      "Warning message in predict.lm(object, newdata, se.fit, scale = 1, type = if (type == :\n",
      "\"prediction from a rank-deficient fit may be misleading\"\n",
      "Warning message:\n",
      "\"glm.fit: algorithm did not converge\"\n",
      "Warning message:\n",
      "\"glm.fit: fitted probabilities numerically 0 or 1 occurred\"\n",
      "Warning message in predict.lm(object, newdata, se.fit, scale = 1, type = if (type == :\n",
      "\"prediction from a rank-deficient fit may be misleading\"\n",
      "Warning message:\n",
      "\"glm.fit: fitted probabilities numerically 0 or 1 occurred\"\n",
      "Warning message in predict.lm(object, newdata, se.fit, scale = 1, type = if (type == :\n",
      "\"prediction from a rank-deficient fit may be misleading\"\n",
      "Warning message:\n",
      "\"glm.fit: fitted probabilities numerically 0 or 1 occurred\"\n",
      "Warning message in predict.lm(object, newdata, se.fit, scale = 1, type = if (type == :\n",
      "\"prediction from a rank-deficient fit may be misleading\"\n",
      "Warning message:\n",
      "\"glm.fit: fitted probabilities numerically 0 or 1 occurred\"\n",
      "Warning message in predict.lm(object, newdata, se.fit, scale = 1, type = if (type == :\n",
      "\"prediction from a rank-deficient fit may be misleading\"\n",
      "Warning message:\n",
      "\"glm.fit: fitted probabilities numerically 0 or 1 occurred\"\n",
      "Warning message in predict.lm(object, newdata, se.fit, scale = 1, type = if (type == :\n",
      "\"prediction from a rank-deficient fit may be misleading\"\n",
      "Warning message:\n",
      "\"glm.fit: fitted probabilities numerically 0 or 1 occurred\"\n",
      "Warning message in predict.lm(object, newdata, se.fit, scale = 1, type = if (type == :\n",
      "\"prediction from a rank-deficient fit may be misleading\"\n",
      "Warning message:\n",
      "\"glm.fit: fitted probabilities numerically 0 or 1 occurred\"\n",
      "Warning message in predict.lm(object, newdata, se.fit, scale = 1, type = if (type == :\n",
      "\"prediction from a rank-deficient fit may be misleading\"\n",
      "Warning message:\n",
      "\"glm.fit: fitted probabilities numerically 0 or 1 occurred\"\n",
      "Warning message in predict.lm(object, newdata, se.fit, scale = 1, type = if (type == :\n",
      "\"prediction from a rank-deficient fit may be misleading\"\n",
      "Warning message:\n",
      "\"glm.fit: fitted probabilities numerically 0 or 1 occurred\"\n",
      "Warning message in predict.lm(object, newdata, se.fit, scale = 1, type = if (type == :\n",
      "\"prediction from a rank-deficient fit may be misleading\"\n",
      "Warning message:\n",
      "\"glm.fit: fitted probabilities numerically 0 or 1 occurred\"\n",
      "Warning message in predict.lm(object, newdata, se.fit, scale = 1, type = if (type == :\n",
      "\"prediction from a rank-deficient fit may be misleading\"\n",
      "Warning message:\n",
      "\"glm.fit: algorithm did not converge\"\n",
      "Warning message:\n",
      "\"glm.fit: fitted probabilities numerically 0 or 1 occurred\"\n",
      "Warning message in predict.lm(object, newdata, se.fit, scale = 1, type = if (type == :\n",
      "\"prediction from a rank-deficient fit may be misleading\"\n",
      "Warning message:\n",
      "\"glm.fit: fitted probabilities numerically 0 or 1 occurred\"\n",
      "Warning message in predict.lm(object, newdata, se.fit, scale = 1, type = if (type == :\n",
      "\"prediction from a rank-deficient fit may be misleading\"\n",
      "Warning message:\n",
      "\"glm.fit: fitted probabilities numerically 0 or 1 occurred\"\n",
      "Warning message in predict.lm(object, newdata, se.fit, scale = 1, type = if (type == :\n",
      "\"prediction from a rank-deficient fit may be misleading\"\n",
      "Warning message:\n",
      "\"glm.fit: fitted probabilities numerically 0 or 1 occurred\"\n",
      "Warning message in predict.lm(object, newdata, se.fit, scale = 1, type = if (type == :\n",
      "\"prediction from a rank-deficient fit may be misleading\"\n",
      "Warning message:\n",
      "\"glm.fit: algorithm did not converge\"\n",
      "Warning message:\n",
      "\"glm.fit: fitted probabilities numerically 0 or 1 occurred\"\n",
      "Warning message in predict.lm(object, newdata, se.fit, scale = 1, type = if (type == :\n",
      "\"prediction from a rank-deficient fit may be misleading\"\n",
      "Warning message:\n",
      "\"glm.fit: fitted probabilities numerically 0 or 1 occurred\"\n",
      "Warning message in predict.lm(object, newdata, se.fit, scale = 1, type = if (type == :\n",
      "\"prediction from a rank-deficient fit may be misleading\"\n",
      "Warning message:\n",
      "\"glm.fit: fitted probabilities numerically 0 or 1 occurred\"\n",
      "Warning message in predict.lm(object, newdata, se.fit, scale = 1, type = if (type == :\n",
      "\"prediction from a rank-deficient fit may be misleading\"\n",
      "Warning message:\n",
      "\"glm.fit: fitted probabilities numerically 0 or 1 occurred\"\n",
      "Warning message in predict.lm(object, newdata, se.fit, scale = 1, type = if (type == :\n",
      "\"prediction from a rank-deficient fit may be misleading\"\n",
      "Warning message:\n",
      "\"glm.fit: fitted probabilities numerically 0 or 1 occurred\"\n",
      "Warning message in predict.lm(object, newdata, se.fit, scale = 1, type = if (type == :\n",
      "\"prediction from a rank-deficient fit may be misleading\"\n"
     ]
    },
    {
     "name": "stderr",
     "output_type": "stream",
     "text": [
      "Warning message:\n",
      "\"glm.fit: algorithm did not converge\"\n",
      "Warning message:\n",
      "\"glm.fit: fitted probabilities numerically 0 or 1 occurred\"\n",
      "Warning message in predict.lm(object, newdata, se.fit, scale = 1, type = if (type == :\n",
      "\"prediction from a rank-deficient fit may be misleading\"\n",
      "Warning message:\n",
      "\"glm.fit: algorithm did not converge\"\n",
      "Warning message:\n",
      "\"glm.fit: fitted probabilities numerically 0 or 1 occurred\"\n",
      "Warning message in predict.lm(object, newdata, se.fit, scale = 1, type = if (type == :\n",
      "\"prediction from a rank-deficient fit may be misleading\"\n",
      "Warning message:\n",
      "\"glm.fit: fitted probabilities numerically 0 or 1 occurred\"\n",
      "Warning message in predict.lm(object, newdata, se.fit, scale = 1, type = if (type == :\n",
      "\"prediction from a rank-deficient fit may be misleading\"\n",
      "Warning message:\n",
      "\"glm.fit: fitted probabilities numerically 0 or 1 occurred\"\n",
      "Warning message in predict.lm(object, newdata, se.fit, scale = 1, type = if (type == :\n",
      "\"prediction from a rank-deficient fit may be misleading\"\n",
      "Warning message:\n",
      "\"glm.fit: fitted probabilities numerically 0 or 1 occurred\"\n",
      "Warning message in predict.lm(object, newdata, se.fit, scale = 1, type = if (type == :\n",
      "\"prediction from a rank-deficient fit may be misleading\"\n",
      "Warning message:\n",
      "\"glm.fit: fitted probabilities numerically 0 or 1 occurred\"\n",
      "Warning message in predict.lm(object, newdata, se.fit, scale = 1, type = if (type == :\n",
      "\"prediction from a rank-deficient fit may be misleading\"\n",
      "Warning message:\n",
      "\"glm.fit: fitted probabilities numerically 0 or 1 occurred\"\n",
      "Warning message in predict.lm(object, newdata, se.fit, scale = 1, type = if (type == :\n",
      "\"prediction from a rank-deficient fit may be misleading\"\n",
      "Warning message:\n",
      "\"glm.fit: fitted probabilities numerically 0 or 1 occurred\"\n",
      "Warning message in predict.lm(object, newdata, se.fit, scale = 1, type = if (type == :\n",
      "\"prediction from a rank-deficient fit may be misleading\"\n",
      "Warning message:\n",
      "\"glm.fit: fitted probabilities numerically 0 or 1 occurred\"\n",
      "Warning message in predict.lm(object, newdata, se.fit, scale = 1, type = if (type == :\n",
      "\"prediction from a rank-deficient fit may be misleading\"\n",
      "Warning message:\n",
      "\"glm.fit: fitted probabilities numerically 0 or 1 occurred\"\n",
      "Warning message in predict.lm(object, newdata, se.fit, scale = 1, type = if (type == :\n",
      "\"prediction from a rank-deficient fit may be misleading\"\n",
      "Warning message:\n",
      "\"glm.fit: fitted probabilities numerically 0 or 1 occurred\"\n",
      "Warning message in predict.lm(object, newdata, se.fit, scale = 1, type = if (type == :\n",
      "\"prediction from a rank-deficient fit may be misleading\"\n",
      "Warning message:\n",
      "\"glm.fit: fitted probabilities numerically 0 or 1 occurred\"\n",
      "Warning message in predict.lm(object, newdata, se.fit, scale = 1, type = if (type == :\n",
      "\"prediction from a rank-deficient fit may be misleading\"\n",
      "Warning message:\n",
      "\"glm.fit: fitted probabilities numerically 0 or 1 occurred\"\n",
      "Warning message in predict.lm(object, newdata, se.fit, scale = 1, type = if (type == :\n",
      "\"prediction from a rank-deficient fit may be misleading\"\n",
      "Warning message:\n",
      "\"glm.fit: fitted probabilities numerically 0 or 1 occurred\"\n",
      "Warning message in predict.lm(object, newdata, se.fit, scale = 1, type = if (type == :\n",
      "\"prediction from a rank-deficient fit may be misleading\"\n",
      "Warning message:\n",
      "\"glm.fit: fitted probabilities numerically 0 or 1 occurred\"\n",
      "Warning message in predict.lm(object, newdata, se.fit, scale = 1, type = if (type == :\n",
      "\"prediction from a rank-deficient fit may be misleading\"\n",
      "Warning message:\n",
      "\"glm.fit: fitted probabilities numerically 0 or 1 occurred\"\n",
      "Warning message in predict.lm(object, newdata, se.fit, scale = 1, type = if (type == :\n",
      "\"prediction from a rank-deficient fit may be misleading\"\n",
      "Warning message:\n",
      "\"glm.fit: fitted probabilities numerically 0 or 1 occurred\"\n",
      "Warning message in predict.lm(object, newdata, se.fit, scale = 1, type = if (type == :\n",
      "\"prediction from a rank-deficient fit may be misleading\"\n",
      "Warning message:\n",
      "\"glm.fit: fitted probabilities numerically 0 or 1 occurred\"\n",
      "Warning message in predict.lm(object, newdata, se.fit, scale = 1, type = if (type == :\n",
      "\"prediction from a rank-deficient fit may be misleading\"\n",
      "Warning message:\n",
      "\"glm.fit: fitted probabilities numerically 0 or 1 occurred\"\n",
      "Warning message in predict.lm(object, newdata, se.fit, scale = 1, type = if (type == :\n",
      "\"prediction from a rank-deficient fit may be misleading\"\n",
      "Warning message:\n",
      "\"glm.fit: fitted probabilities numerically 0 or 1 occurred\"\n",
      "Warning message in predict.lm(object, newdata, se.fit, scale = 1, type = if (type == :\n",
      "\"prediction from a rank-deficient fit may be misleading\"\n",
      "Warning message:\n",
      "\"glm.fit: algorithm did not converge\"\n",
      "Warning message:\n",
      "\"glm.fit: fitted probabilities numerically 0 or 1 occurred\"\n",
      "Warning message in predict.lm(object, newdata, se.fit, scale = 1, type = if (type == :\n",
      "\"prediction from a rank-deficient fit may be misleading\"\n",
      "Warning message:\n",
      "\"glm.fit: algorithm did not converge\"\n",
      "Warning message:\n",
      "\"glm.fit: fitted probabilities numerically 0 or 1 occurred\"\n",
      "Warning message in predict.lm(object, newdata, se.fit, scale = 1, type = if (type == :\n",
      "\"prediction from a rank-deficient fit may be misleading\"\n",
      "Warning message:\n",
      "\"glm.fit: fitted probabilities numerically 0 or 1 occurred\"\n",
      "Warning message in predict.lm(object, newdata, se.fit, scale = 1, type = if (type == :\n",
      "\"prediction from a rank-deficient fit may be misleading\"\n",
      "Warning message:\n",
      "\"glm.fit: fitted probabilities numerically 0 or 1 occurred\"\n",
      "Warning message in predict.lm(object, newdata, se.fit, scale = 1, type = if (type == :\n",
      "\"prediction from a rank-deficient fit may be misleading\"\n",
      "Warning message:\n",
      "\"glm.fit: fitted probabilities numerically 0 or 1 occurred\"\n",
      "Warning message in predict.lm(object, newdata, se.fit, scale = 1, type = if (type == :\n",
      "\"prediction from a rank-deficient fit may be misleading\"\n",
      "Warning message:\n",
      "\"glm.fit: fitted probabilities numerically 0 or 1 occurred\"\n",
      "Warning message in predict.lm(object, newdata, se.fit, scale = 1, type = if (type == :\n",
      "\"prediction from a rank-deficient fit may be misleading\"\n",
      "Warning message:\n",
      "\"glm.fit: fitted probabilities numerically 0 or 1 occurred\"\n",
      "Warning message in predict.lm(object, newdata, se.fit, scale = 1, type = if (type == :\n",
      "\"prediction from a rank-deficient fit may be misleading\"\n",
      "Warning message:\n",
      "\"glm.fit: fitted probabilities numerically 0 or 1 occurred\"\n",
      "Warning message in predict.lm(object, newdata, se.fit, scale = 1, type = if (type == :\n",
      "\"prediction from a rank-deficient fit may be misleading\"\n",
      "Warning message:\n",
      "\"glm.fit: fitted probabilities numerically 0 or 1 occurred\"\n",
      "Warning message in predict.lm(object, newdata, se.fit, scale = 1, type = if (type == :\n",
      "\"prediction from a rank-deficient fit may be misleading\"\n",
      "Warning message:\n",
      "\"glm.fit: fitted probabilities numerically 0 or 1 occurred\"\n",
      "Warning message in predict.lm(object, newdata, se.fit, scale = 1, type = if (type == :\n",
      "\"prediction from a rank-deficient fit may be misleading\"\n",
      "Warning message:\n",
      "\"glm.fit: fitted probabilities numerically 0 or 1 occurred\"\n",
      "Warning message in predict.lm(object, newdata, se.fit, scale = 1, type = if (type == :\n",
      "\"prediction from a rank-deficient fit may be misleading\"\n",
      "Warning message:\n",
      "\"glm.fit: algorithm did not converge\"\n",
      "Warning message:\n",
      "\"glm.fit: fitted probabilities numerically 0 or 1 occurred\"\n",
      "Warning message in predict.lm(object, newdata, se.fit, scale = 1, type = if (type == :\n",
      "\"prediction from a rank-deficient fit may be misleading\"\n",
      "Warning message:\n",
      "\"glm.fit: fitted probabilities numerically 0 or 1 occurred\"\n",
      "Warning message in predict.lm(object, newdata, se.fit, scale = 1, type = if (type == :\n",
      "\"prediction from a rank-deficient fit may be misleading\"\n",
      "Warning message:\n",
      "\"glm.fit: fitted probabilities numerically 0 or 1 occurred\"\n",
      "Warning message in predict.lm(object, newdata, se.fit, scale = 1, type = if (type == :\n",
      "\"prediction from a rank-deficient fit may be misleading\"\n",
      "Warning message:\n",
      "\"glm.fit: fitted probabilities numerically 0 or 1 occurred\"\n",
      "Warning message in predict.lm(object, newdata, se.fit, scale = 1, type = if (type == :\n",
      "\"prediction from a rank-deficient fit may be misleading\"\n",
      "Warning message:\n",
      "\"glm.fit: fitted probabilities numerically 0 or 1 occurred\"\n",
      "Warning message in predict.lm(object, newdata, se.fit, scale = 1, type = if (type == :\n",
      "\"prediction from a rank-deficient fit may be misleading\"\n"
     ]
    },
    {
     "name": "stderr",
     "output_type": "stream",
     "text": [
      "Warning message:\n",
      "\"glm.fit: fitted probabilities numerically 0 or 1 occurred\"\n",
      "Warning message in predict.lm(object, newdata, se.fit, scale = 1, type = if (type == :\n",
      "\"prediction from a rank-deficient fit may be misleading\"\n",
      "Warning message:\n",
      "\"glm.fit: fitted probabilities numerically 0 or 1 occurred\"\n",
      "Warning message in predict.lm(object, newdata, se.fit, scale = 1, type = if (type == :\n",
      "\"prediction from a rank-deficient fit may be misleading\"\n",
      "Warning message:\n",
      "\"glm.fit: fitted probabilities numerically 0 or 1 occurred\"\n",
      "Warning message in predict.lm(object, newdata, se.fit, scale = 1, type = if (type == :\n",
      "\"prediction from a rank-deficient fit may be misleading\"\n",
      "Warning message:\n",
      "\"glm.fit: fitted probabilities numerically 0 or 1 occurred\"\n",
      "Warning message in predict.lm(object, newdata, se.fit, scale = 1, type = if (type == :\n",
      "\"prediction from a rank-deficient fit may be misleading\"\n",
      "Warning message:\n",
      "\"glm.fit: fitted probabilities numerically 0 or 1 occurred\"\n",
      "Warning message in predict.lm(object, newdata, se.fit, scale = 1, type = if (type == :\n",
      "\"prediction from a rank-deficient fit may be misleading\"\n",
      "Warning message:\n",
      "\"glm.fit: algorithm did not converge\"\n",
      "Warning message:\n",
      "\"glm.fit: fitted probabilities numerically 0 or 1 occurred\"\n",
      "Warning message in predict.lm(object, newdata, se.fit, scale = 1, type = if (type == :\n",
      "\"prediction from a rank-deficient fit may be misleading\"\n",
      "Warning message:\n",
      "\"glm.fit: fitted probabilities numerically 0 or 1 occurred\"\n",
      "Warning message in predict.lm(object, newdata, se.fit, scale = 1, type = if (type == :\n",
      "\"prediction from a rank-deficient fit may be misleading\"\n",
      "Warning message:\n",
      "\"glm.fit: fitted probabilities numerically 0 or 1 occurred\"\n",
      "Warning message in predict.lm(object, newdata, se.fit, scale = 1, type = if (type == :\n",
      "\"prediction from a rank-deficient fit may be misleading\"\n",
      "Warning message:\n",
      "\"glm.fit: fitted probabilities numerically 0 or 1 occurred\"\n",
      "Warning message in predict.lm(object, newdata, se.fit, scale = 1, type = if (type == :\n",
      "\"prediction from a rank-deficient fit may be misleading\"\n",
      "Warning message:\n",
      "\"glm.fit: fitted probabilities numerically 0 or 1 occurred\"\n",
      "Warning message in predict.lm(object, newdata, se.fit, scale = 1, type = if (type == :\n",
      "\"prediction from a rank-deficient fit may be misleading\"\n",
      "Warning message:\n",
      "\"glm.fit: fitted probabilities numerically 0 or 1 occurred\"\n",
      "Warning message in predict.lm(object, newdata, se.fit, scale = 1, type = if (type == :\n",
      "\"prediction from a rank-deficient fit may be misleading\"\n",
      "Warning message:\n",
      "\"glm.fit: fitted probabilities numerically 0 or 1 occurred\"\n",
      "Warning message in predict.lm(object, newdata, se.fit, scale = 1, type = if (type == :\n",
      "\"prediction from a rank-deficient fit may be misleading\"\n",
      "Warning message:\n",
      "\"glm.fit: fitted probabilities numerically 0 or 1 occurred\"\n",
      "Warning message in predict.lm(object, newdata, se.fit, scale = 1, type = if (type == :\n",
      "\"prediction from a rank-deficient fit may be misleading\"\n",
      "Warning message:\n",
      "\"glm.fit: fitted probabilities numerically 0 or 1 occurred\"\n",
      "Warning message in predict.lm(object, newdata, se.fit, scale = 1, type = if (type == :\n",
      "\"prediction from a rank-deficient fit may be misleading\"\n",
      "Warning message:\n",
      "\"glm.fit: fitted probabilities numerically 0 or 1 occurred\"\n",
      "Warning message in predict.lm(object, newdata, se.fit, scale = 1, type = if (type == :\n",
      "\"prediction from a rank-deficient fit may be misleading\"\n",
      "Warning message:\n",
      "\"glm.fit: algorithm did not converge\"\n",
      "Warning message:\n",
      "\"glm.fit: fitted probabilities numerically 0 or 1 occurred\"\n",
      "Warning message in predict.lm(object, newdata, se.fit, scale = 1, type = if (type == :\n",
      "\"prediction from a rank-deficient fit may be misleading\"\n",
      "Warning message:\n",
      "\"glm.fit: fitted probabilities numerically 0 or 1 occurred\"\n",
      "Warning message in predict.lm(object, newdata, se.fit, scale = 1, type = if (type == :\n",
      "\"prediction from a rank-deficient fit may be misleading\"\n",
      "Warning message:\n",
      "\"glm.fit: fitted probabilities numerically 0 or 1 occurred\"\n",
      "Warning message in predict.lm(object, newdata, se.fit, scale = 1, type = if (type == :\n",
      "\"prediction from a rank-deficient fit may be misleading\"\n",
      "Warning message:\n",
      "\"glm.fit: fitted probabilities numerically 0 or 1 occurred\"\n",
      "Warning message in predict.lm(object, newdata, se.fit, scale = 1, type = if (type == :\n",
      "\"prediction from a rank-deficient fit may be misleading\"\n",
      "Warning message:\n",
      "\"glm.fit: fitted probabilities numerically 0 or 1 occurred\"\n",
      "Warning message in predict.lm(object, newdata, se.fit, scale = 1, type = if (type == :\n",
      "\"prediction from a rank-deficient fit may be misleading\"\n",
      "Warning message:\n",
      "\"glm.fit: fitted probabilities numerically 0 or 1 occurred\"\n",
      "Warning message in predict.lm(object, newdata, se.fit, scale = 1, type = if (type == :\n",
      "\"prediction from a rank-deficient fit may be misleading\"\n",
      "Warning message:\n",
      "\"glm.fit: fitted probabilities numerically 0 or 1 occurred\"\n",
      "Warning message in predict.lm(object, newdata, se.fit, scale = 1, type = if (type == :\n",
      "\"prediction from a rank-deficient fit may be misleading\"\n",
      "Warning message:\n",
      "\"glm.fit: fitted probabilities numerically 0 or 1 occurred\"\n",
      "Warning message in predict.lm(object, newdata, se.fit, scale = 1, type = if (type == :\n",
      "\"prediction from a rank-deficient fit may be misleading\"\n",
      "Warning message:\n",
      "\"glm.fit: fitted probabilities numerically 0 or 1 occurred\"\n",
      "Warning message in predict.lm(object, newdata, se.fit, scale = 1, type = if (type == :\n",
      "\"prediction from a rank-deficient fit may be misleading\"\n",
      "Warning message:\n",
      "\"glm.fit: fitted probabilities numerically 0 or 1 occurred\"\n",
      "Warning message in predict.lm(object, newdata, se.fit, scale = 1, type = if (type == :\n",
      "\"prediction from a rank-deficient fit may be misleading\"\n",
      "Warning message:\n",
      "\"glm.fit: algorithm did not converge\"\n",
      "Warning message:\n",
      "\"glm.fit: fitted probabilities numerically 0 or 1 occurred\"\n",
      "Warning message in predict.lm(object, newdata, se.fit, scale = 1, type = if (type == :\n",
      "\"prediction from a rank-deficient fit may be misleading\"\n",
      "Warning message:\n",
      "\"glm.fit: fitted probabilities numerically 0 or 1 occurred\"\n",
      "Warning message in predict.lm(object, newdata, se.fit, scale = 1, type = if (type == :\n",
      "\"prediction from a rank-deficient fit may be misleading\"\n",
      "Warning message:\n",
      "\"glm.fit: fitted probabilities numerically 0 or 1 occurred\"\n",
      "Warning message in predict.lm(object, newdata, se.fit, scale = 1, type = if (type == :\n",
      "\"prediction from a rank-deficient fit may be misleading\"\n"
     ]
    }
   ],
   "source": [
    "test.accuracy <- matrix(0,10,10)\n",
    "train.accuracy <- matrix(0,10,10)\n",
    "for(iter in 1:10){\n",
    "    for(numbers in 0:9){\n",
    "        y1 <- y_train;\n",
    "        y1[which(y_train != numbers)] <- 0 ; y1[which(y_train == numbers)] <- 1\n",
    "        dat <- data.frame(y1,x_train)\n",
    "\n",
    "        i<-sample(1:dim(x_train)[1],10000);\n",
    "        j<- setdiff(1:dim(x_train)[1],i)[1:10000]\n",
    "        datT <- dat[i,]\n",
    "        datt <- dat[j,]\n",
    "\n",
    "        #seleccionamos 1 de cada 20 pixeles\n",
    "        j<-seq(1,784,20)\n",
    "        #entrenamos nuestro modelo logístico\n",
    "        model1 <- glm(datT$y1~., data = datT[,j], family = binomial(link = \"logit\"))\n",
    "        out1 <- model1$fitted.values\n",
    "        outbin1 <- as.double(out1 > 0.5)\n",
    "        train.accuracy[iter,numbers + 1 ] = 100*sum(diag(table(datT[,1], outbin1))) / length(outbin1)\n",
    "        out11<- predict(object=model1, newdata = datt[,j]);\n",
    "        outbin11 <- as.double(out11 > 0.5)\n",
    "        test.accuracy[iter, numbers + 1] = 100*sum(diag(table(datt[,1], outbin11))) / length(outbin11)\n",
    "    }\n",
    "}"
   ]
  },
  {
   "cell_type": "code",
   "execution_count": 110,
   "metadata": {},
   "outputs": [
    {
     "data": {
      "text/html": [
       "<table>\n",
       "<caption>A matrix: 10 × 10 of type dbl</caption>\n",
       "<tbody>\n",
       "\t<tr><td>96.25</td><td>96.16</td><td>94.53</td><td>92.14</td><td>93.71</td><td>92.81</td><td>93.38</td><td>94.68</td><td>92.71</td><td>91.50</td></tr>\n",
       "\t<tr><td>96.11</td><td>96.13</td><td>94.55</td><td>92.05</td><td>93.79</td><td>92.86</td><td>93.89</td><td>94.78</td><td>92.58</td><td>91.90</td></tr>\n",
       "\t<tr><td>96.37</td><td>96.14</td><td>94.67</td><td>92.44</td><td>93.72</td><td>92.89</td><td>93.63</td><td>94.92</td><td>92.59</td><td>91.68</td></tr>\n",
       "\t<tr><td>96.07</td><td>96.17</td><td>94.40</td><td>92.42</td><td>93.74</td><td>92.80</td><td>93.35</td><td>94.73</td><td>92.65</td><td>91.52</td></tr>\n",
       "\t<tr><td>96.25</td><td>96.06</td><td>94.50</td><td>92.26</td><td>93.60</td><td>92.73</td><td>93.64</td><td>94.87</td><td>92.70</td><td>91.61</td></tr>\n",
       "\t<tr><td>96.29</td><td>96.20</td><td>94.53</td><td>92.12</td><td>93.59</td><td>92.59</td><td>93.90</td><td>94.84</td><td>92.44</td><td>91.81</td></tr>\n",
       "\t<tr><td>96.33</td><td>96.05</td><td>94.29</td><td>92.36</td><td>93.81</td><td>92.63</td><td>93.82</td><td>95.02</td><td>92.49</td><td>91.53</td></tr>\n",
       "\t<tr><td>96.27</td><td>96.23</td><td>94.54</td><td>92.06</td><td>93.64</td><td>92.83</td><td>93.56</td><td>94.84</td><td>92.82</td><td>91.27</td></tr>\n",
       "\t<tr><td>96.25</td><td>96.09</td><td>94.47</td><td>92.16</td><td>93.59</td><td>92.83</td><td>93.67</td><td>94.99</td><td>92.61</td><td>91.64</td></tr>\n",
       "\t<tr><td>96.35</td><td>96.29</td><td>94.65</td><td>92.24</td><td>93.50</td><td>93.00</td><td>93.64</td><td>94.99</td><td>92.55</td><td>91.68</td></tr>\n",
       "</tbody>\n",
       "</table>\n"
      ],
      "text/latex": [
       "A matrix: 10 × 10 of type dbl\n",
       "\\begin{tabular}{llllllllll}\n",
       "\t 96.25 & 96.16 & 94.53 & 92.14 & 93.71 & 92.81 & 93.38 & 94.68 & 92.71 & 91.50\\\\\n",
       "\t 96.11 & 96.13 & 94.55 & 92.05 & 93.79 & 92.86 & 93.89 & 94.78 & 92.58 & 91.90\\\\\n",
       "\t 96.37 & 96.14 & 94.67 & 92.44 & 93.72 & 92.89 & 93.63 & 94.92 & 92.59 & 91.68\\\\\n",
       "\t 96.07 & 96.17 & 94.40 & 92.42 & 93.74 & 92.80 & 93.35 & 94.73 & 92.65 & 91.52\\\\\n",
       "\t 96.25 & 96.06 & 94.50 & 92.26 & 93.60 & 92.73 & 93.64 & 94.87 & 92.70 & 91.61\\\\\n",
       "\t 96.29 & 96.20 & 94.53 & 92.12 & 93.59 & 92.59 & 93.90 & 94.84 & 92.44 & 91.81\\\\\n",
       "\t 96.33 & 96.05 & 94.29 & 92.36 & 93.81 & 92.63 & 93.82 & 95.02 & 92.49 & 91.53\\\\\n",
       "\t 96.27 & 96.23 & 94.54 & 92.06 & 93.64 & 92.83 & 93.56 & 94.84 & 92.82 & 91.27\\\\\n",
       "\t 96.25 & 96.09 & 94.47 & 92.16 & 93.59 & 92.83 & 93.67 & 94.99 & 92.61 & 91.64\\\\\n",
       "\t 96.35 & 96.29 & 94.65 & 92.24 & 93.50 & 93.00 & 93.64 & 94.99 & 92.55 & 91.68\\\\\n",
       "\\end{tabular}\n"
      ],
      "text/markdown": [
       "\n",
       "A matrix: 10 × 10 of type dbl\n",
       "\n",
       "| 96.25 | 96.16 | 94.53 | 92.14 | 93.71 | 92.81 | 93.38 | 94.68 | 92.71 | 91.50 |\n",
       "| 96.11 | 96.13 | 94.55 | 92.05 | 93.79 | 92.86 | 93.89 | 94.78 | 92.58 | 91.90 |\n",
       "| 96.37 | 96.14 | 94.67 | 92.44 | 93.72 | 92.89 | 93.63 | 94.92 | 92.59 | 91.68 |\n",
       "| 96.07 | 96.17 | 94.40 | 92.42 | 93.74 | 92.80 | 93.35 | 94.73 | 92.65 | 91.52 |\n",
       "| 96.25 | 96.06 | 94.50 | 92.26 | 93.60 | 92.73 | 93.64 | 94.87 | 92.70 | 91.61 |\n",
       "| 96.29 | 96.20 | 94.53 | 92.12 | 93.59 | 92.59 | 93.90 | 94.84 | 92.44 | 91.81 |\n",
       "| 96.33 | 96.05 | 94.29 | 92.36 | 93.81 | 92.63 | 93.82 | 95.02 | 92.49 | 91.53 |\n",
       "| 96.27 | 96.23 | 94.54 | 92.06 | 93.64 | 92.83 | 93.56 | 94.84 | 92.82 | 91.27 |\n",
       "| 96.25 | 96.09 | 94.47 | 92.16 | 93.59 | 92.83 | 93.67 | 94.99 | 92.61 | 91.64 |\n",
       "| 96.35 | 96.29 | 94.65 | 92.24 | 93.50 | 93.00 | 93.64 | 94.99 | 92.55 | 91.68 |\n",
       "\n"
      ],
      "text/plain": [
       "      [,1]  [,2]  [,3]  [,4]  [,5]  [,6]  [,7]  [,8]  [,9]  [,10]\n",
       " [1,] 96.25 96.16 94.53 92.14 93.71 92.81 93.38 94.68 92.71 91.50\n",
       " [2,] 96.11 96.13 94.55 92.05 93.79 92.86 93.89 94.78 92.58 91.90\n",
       " [3,] 96.37 96.14 94.67 92.44 93.72 92.89 93.63 94.92 92.59 91.68\n",
       " [4,] 96.07 96.17 94.40 92.42 93.74 92.80 93.35 94.73 92.65 91.52\n",
       " [5,] 96.25 96.06 94.50 92.26 93.60 92.73 93.64 94.87 92.70 91.61\n",
       " [6,] 96.29 96.20 94.53 92.12 93.59 92.59 93.90 94.84 92.44 91.81\n",
       " [7,] 96.33 96.05 94.29 92.36 93.81 92.63 93.82 95.02 92.49 91.53\n",
       " [8,] 96.27 96.23 94.54 92.06 93.64 92.83 93.56 94.84 92.82 91.27\n",
       " [9,] 96.25 96.09 94.47 92.16 93.59 92.83 93.67 94.99 92.61 91.64\n",
       "[10,] 96.35 96.29 94.65 92.24 93.50 93.00 93.64 94.99 92.55 91.68"
      ]
     },
     "metadata": {},
     "output_type": "display_data"
    }
   ],
   "source": [
    "test.accuracy"
   ]
  },
  {
   "cell_type": "code",
   "execution_count": 44,
   "metadata": {},
   "outputs": [],
   "source": [
    "digit_sd <- function(x){\n",
    "    sdeviation <- c()\n",
    "    for(i in 1:10){\n",
    "        sdeviation[i] = sd(x[,i])\n",
    "    }\n",
    "    sdeviation\n",
    "}\n",
    "digit_media <- function(x){\n",
    "    media <- c()\n",
    "    for(i in 1:10){\n",
    "        media[i] = mean(x[,i])\n",
    "    }\n",
    "    media\n",
    "}"
   ]
  },
  {
   "cell_type": "code",
   "execution_count": 47,
   "metadata": {},
   "outputs": [
    {
     "data": {
      "text/html": [
       "<ol class=list-inline>\n",
       "\t<li>0.124993333155548</li>\n",
       "\t<li>0.125525561805817</li>\n",
       "\t<li>0.132333753147949</li>\n",
       "\t<li>0.111260455189116</li>\n",
       "\t<li>0.0982117892900629</li>\n",
       "\t<li>0.136010620500344</li>\n",
       "\t<li>0.154922919902483</li>\n",
       "\t<li>0.105282688246664</li>\n",
       "\t<li>0.0877433125023732</li>\n",
       "\t<li>0.158257876756754</li>\n",
       "</ol>\n"
      ],
      "text/latex": [
       "\\begin{enumerate*}\n",
       "\\item 0.124993333155548\n",
       "\\item 0.125525561805817\n",
       "\\item 0.132333753147949\n",
       "\\item 0.111260455189116\n",
       "\\item 0.0982117892900629\n",
       "\\item 0.136010620500344\n",
       "\\item 0.154922919902483\n",
       "\\item 0.105282688246664\n",
       "\\item 0.0877433125023732\n",
       "\\item 0.158257876756754\n",
       "\\end{enumerate*}\n"
      ],
      "text/markdown": [
       "1. 0.124993333155548\n",
       "2. 0.125525561805817\n",
       "3. 0.132333753147949\n",
       "4. 0.111260455189116\n",
       "5. 0.0982117892900629\n",
       "6. 0.136010620500344\n",
       "7. 0.154922919902483\n",
       "8. 0.105282688246664\n",
       "9. 0.0877433125023732\n",
       "10. 0.158257876756754\n",
       "\n",
       "\n"
      ],
      "text/plain": [
       " [1] 0.12499333 0.12552556 0.13233375 0.11126046 0.09821179 0.13601062\n",
       " [7] 0.15492292 0.10528269 0.08774331 0.15825788"
      ]
     },
     "metadata": {},
     "output_type": "display_data"
    }
   ],
   "source": [
    "desviaciones <- digit_sd(test.accuracy)\n",
    "desviaciones"
   ]
  },
  {
   "cell_type": "code",
   "execution_count": 48,
   "metadata": {},
   "outputs": [
    {
     "data": {
      "text/html": [
       "<ol class=list-inline>\n",
       "\t<li>96.263</li>\n",
       "\t<li>96.153</li>\n",
       "\t<li>94.577</li>\n",
       "\t<li>92.263</li>\n",
       "\t<li>93.757</li>\n",
       "\t<li>92.679</li>\n",
       "\t<li>93.617</li>\n",
       "\t<li>94.828</li>\n",
       "\t<li>92.589</li>\n",
       "\t<li>91.547</li>\n",
       "</ol>\n"
      ],
      "text/latex": [
       "\\begin{enumerate*}\n",
       "\\item 96.263\n",
       "\\item 96.153\n",
       "\\item 94.577\n",
       "\\item 92.263\n",
       "\\item 93.757\n",
       "\\item 92.679\n",
       "\\item 93.617\n",
       "\\item 94.828\n",
       "\\item 92.589\n",
       "\\item 91.547\n",
       "\\end{enumerate*}\n"
      ],
      "text/markdown": [
       "1. 96.263\n",
       "2. 96.153\n",
       "3. 94.577\n",
       "4. 92.263\n",
       "5. 93.757\n",
       "6. 92.679\n",
       "7. 93.617\n",
       "8. 94.828\n",
       "9. 92.589\n",
       "10. 91.547\n",
       "\n",
       "\n"
      ],
      "text/plain": [
       " [1] 96.263 96.153 94.577 92.263 93.757 92.679 93.617 94.828 92.589 91.547"
      ]
     },
     "metadata": {},
     "output_type": "display_data"
    }
   ],
   "source": [
    "medias <- digit_media(test.accuracy)\n",
    "medias"
   ]
  },
  {
   "cell_type": "code",
   "execution_count": 57,
   "metadata": {},
   "outputs": [],
   "source": [
    "intervalo_conf <- matrix(0,10,2)\n",
    "for (i in 1:10){\n",
    "    intervalo_conf[i,1] <- medias[i]-desviaciones[i]\n",
    "    intervalo_conf[i,2] <- medias[i]+desviaciones[i]\n",
    "}"
   ]
  },
  {
   "cell_type": "code",
   "execution_count": 58,
   "metadata": {},
   "outputs": [
    {
     "data": {
      "text/html": [
       "<table>\n",
       "<caption>A matrix: 10 × 2 of type dbl</caption>\n",
       "<tbody>\n",
       "\t<tr><td>96.13801</td><td>96.38799</td></tr>\n",
       "\t<tr><td>96.02747</td><td>96.27853</td></tr>\n",
       "\t<tr><td>94.44467</td><td>94.70933</td></tr>\n",
       "\t<tr><td>92.15174</td><td>92.37426</td></tr>\n",
       "\t<tr><td>93.65879</td><td>93.85521</td></tr>\n",
       "\t<tr><td>92.54299</td><td>92.81501</td></tr>\n",
       "\t<tr><td>93.46208</td><td>93.77192</td></tr>\n",
       "\t<tr><td>94.72272</td><td>94.93328</td></tr>\n",
       "\t<tr><td>92.50126</td><td>92.67674</td></tr>\n",
       "\t<tr><td>91.38874</td><td>91.70526</td></tr>\n",
       "</tbody>\n",
       "</table>\n"
      ],
      "text/latex": [
       "A matrix: 10 × 2 of type dbl\n",
       "\\begin{tabular}{ll}\n",
       "\t 96.13801 & 96.38799\\\\\n",
       "\t 96.02747 & 96.27853\\\\\n",
       "\t 94.44467 & 94.70933\\\\\n",
       "\t 92.15174 & 92.37426\\\\\n",
       "\t 93.65879 & 93.85521\\\\\n",
       "\t 92.54299 & 92.81501\\\\\n",
       "\t 93.46208 & 93.77192\\\\\n",
       "\t 94.72272 & 94.93328\\\\\n",
       "\t 92.50126 & 92.67674\\\\\n",
       "\t 91.38874 & 91.70526\\\\\n",
       "\\end{tabular}\n"
      ],
      "text/markdown": [
       "\n",
       "A matrix: 10 × 2 of type dbl\n",
       "\n",
       "| 96.13801 | 96.38799 |\n",
       "| 96.02747 | 96.27853 |\n",
       "| 94.44467 | 94.70933 |\n",
       "| 92.15174 | 92.37426 |\n",
       "| 93.65879 | 93.85521 |\n",
       "| 92.54299 | 92.81501 |\n",
       "| 93.46208 | 93.77192 |\n",
       "| 94.72272 | 94.93328 |\n",
       "| 92.50126 | 92.67674 |\n",
       "| 91.38874 | 91.70526 |\n",
       "\n"
      ],
      "text/plain": [
       "      [,1]     [,2]    \n",
       " [1,] 96.13801 96.38799\n",
       " [2,] 96.02747 96.27853\n",
       " [3,] 94.44467 94.70933\n",
       " [4,] 92.15174 92.37426\n",
       " [5,] 93.65879 93.85521\n",
       " [6,] 92.54299 92.81501\n",
       " [7,] 93.46208 93.77192\n",
       " [8,] 94.72272 94.93328\n",
       " [9,] 92.50126 92.67674\n",
       "[10,] 91.38874 91.70526"
      ]
     },
     "metadata": {},
     "output_type": "display_data"
    }
   ],
   "source": [
    "intervalo_conf"
   ]
  },
  {
   "cell_type": "markdown",
   "metadata": {},
   "source": [
    "Observamos que los dos dígitos con un mayor porcentaje de aciertos son el dígito 0 y el 1, ambos tienen un intervalo de confianza entorno a 96-96.3 (parece que el 0 tiene un acierto mayor). Por otro lado luego podemos situar el 7 y el 2 con un porcentaje de aciertos en torno al 94.7-94.9 y 94.4-94.7 respectivamente. El 6 yel 4 luego aparecen sobre 93. Finalmente, entre los tres peores ajustes encontramos el 5 y el 3 sobre el 92 de acierto y el que peor ajusta vemos que es el 9 cuyo intervalo de confianza se rige entre 91.38 y 91.7."
   ]
  },
  {
   "cell_type": "markdown",
   "metadata": {},
   "source": [
    "TRABAJO EXTRA: Hasta ahora hemos utilizado la tasa de acierto como medida de validación de los clasificadores. Para ello, las predicciones probabilísticas se tiene que convertir a binarias (utilizando un umbral para al probabilidad). Sin embargo, existen otras medidas más generales que consideran el carácter probabilístico de la predicción. \n",
    "Leer https://es.wikipedia.org/wiki/Curva_ROC\n",
    "Practicar con el paquete 'AUC'\n",
    "#install.packages(\"AUC\")\n",
    "#library(\"AUC\")\n",
    "#roc<-roc(out,as.factor(datT[,1]))\n",
    "#auc(roc)\n",
    "#plot(roc)"
   ]
  },
  {
   "cell_type": "code",
   "execution_count": 11,
   "metadata": {},
   "outputs": [
    {
     "name": "stderr",
     "output_type": "stream",
     "text": [
      "AUC 0.3.0\n",
      "\n",
      "Type AUCNews() to see the change log and ?AUC to get an overview.\n",
      "\n"
     ]
    }
   ],
   "source": [
    "library(\"AUC\")"
   ]
  },
  {
   "cell_type": "code",
   "execution_count": 32,
   "metadata": {},
   "outputs": [
    {
     "name": "stderr",
     "output_type": "stream",
     "text": [
      "Warning message:\n",
      "\"glm.fit: fitted probabilities numerically 0 or 1 occurred\"\n",
      "Warning message in predict.lm(object, newdata, se.fit, scale = 1, type = if (type == :\n",
      "\"prediction from a rank-deficient fit may be misleading\"\n",
      "Warning message:\n",
      "\"glm.fit: algorithm did not converge\"\n",
      "Warning message:\n",
      "\"glm.fit: fitted probabilities numerically 0 or 1 occurred\"\n",
      "Warning message in predict.lm(object, newdata, se.fit, scale = 1, type = if (type == :\n",
      "\"prediction from a rank-deficient fit may be misleading\"\n",
      "Warning message:\n",
      "\"glm.fit: fitted probabilities numerically 0 or 1 occurred\"\n",
      "Warning message in predict.lm(object, newdata, se.fit, scale = 1, type = if (type == :\n",
      "\"prediction from a rank-deficient fit may be misleading\"\n"
     ]
    },
    {
     "data": {
      "image/png": "[encoded data removed]",
      "text/plain": [
       "plot without title"
      ]
     },
     "metadata": {
      "image/png": {
       "height": 420,
       "width": 420
      },
      "text/plain": {
       "height": 420,
       "width": 420
      }
     },
     "output_type": "display_data"
    },
    {
     "name": "stderr",
     "output_type": "stream",
     "text": [
      "Warning message:\n",
      "\"glm.fit: fitted probabilities numerically 0 or 1 occurred\"\n",
      "Warning message in predict.lm(object, newdata, se.fit, scale = 1, type = if (type == :\n",
      "\"prediction from a rank-deficient fit may be misleading\"\n"
     ]
    },
    {
     "data": {
      "image/png": "[encoded data removed]",
      "text/plain": [
       "plot without title"
      ]
     },
     "metadata": {
      "image/png": {
       "height": 420,
       "width": 420
      },
      "text/plain": {
       "height": 420,
       "width": 420
      }
     },
     "output_type": "display_data"
    },
    {
     "name": "stderr",
     "output_type": "stream",
     "text": [
      "Warning message:\n",
      "\"glm.fit: fitted probabilities numerically 0 or 1 occurred\"\n",
      "Warning message in predict.lm(object, newdata, se.fit, scale = 1, type = if (type == :\n",
      "\"prediction from a rank-deficient fit may be misleading\"\n"
     ]
    },
    {
     "data": {
      "image/png": "[encoded data removed]",
      "text/plain": [
       "plot without title"
      ]
     },
     "metadata": {
      "image/png": {
       "height": 420,
       "width": 420
      },
      "text/plain": {
       "height": 420,
       "width": 420
      }
     },
     "output_type": "display_data"
    },
    {
     "name": "stderr",
     "output_type": "stream",
     "text": [
      "Warning message:\n",
      "\"glm.fit: fitted probabilities numerically 0 or 1 occurred\"\n",
      "Warning message in predict.lm(object, newdata, se.fit, scale = 1, type = if (type == :\n",
      "\"prediction from a rank-deficient fit may be misleading\"\n"
     ]
    },
    {
     "data": {
      "image/png": "[encoded data removed]",
      "text/plain": [
       "plot without title"
      ]
     },
     "metadata": {
      "image/png": {
       "height": 420,
       "width": 420
      },
      "text/plain": {
       "height": 420,
       "width": 420
      }
     },
     "output_type": "display_data"
    },
    {
     "name": "stderr",
     "output_type": "stream",
     "text": [
      "Warning message:\n",
      "\"glm.fit: fitted probabilities numerically 0 or 1 occurred\"\n",
      "Warning message in predict.lm(object, newdata, se.fit, scale = 1, type = if (type == :\n",
      "\"prediction from a rank-deficient fit may be misleading\"\n"
     ]
    },
    {
     "data": {
      "image/png": "[encoded data removed]",
      "text/plain": [
       "plot without title"
      ]
     },
     "metadata": {
      "image/png": {
       "height": 420,
       "width": 420
      },
      "text/plain": {
       "height": 420,
       "width": 420
      }
     },
     "output_type": "display_data"
    },
    {
     "name": "stderr",
     "output_type": "stream",
     "text": [
      "Warning message:\n",
      "\"glm.fit: fitted probabilities numerically 0 or 1 occurred\"\n",
      "Warning message in predict.lm(object, newdata, se.fit, scale = 1, type = if (type == :\n",
      "\"prediction from a rank-deficient fit may be misleading\"\n"
     ]
    },
    {
     "data": {
      "image/png": "[encoded data removed]",
      "text/plain": [
       "plot without title"
      ]
     },
     "metadata": {
      "image/png": {
       "height": 420,
       "width": 420
      },
      "text/plain": {
       "height": 420,
       "width": 420
      }
     },
     "output_type": "display_data"
    },
    {
     "name": "stderr",
     "output_type": "stream",
     "text": [
      "Warning message:\n",
      "\"glm.fit: fitted probabilities numerically 0 or 1 occurred\"\n",
      "Warning message in predict.lm(object, newdata, se.fit, scale = 1, type = if (type == :\n",
      "\"prediction from a rank-deficient fit may be misleading\"\n"
     ]
    },
    {
     "data": {
      "image/png": "[encoded data removed]",
      "text/plain": [
       "plot without title"
      ]
     },
     "metadata": {
      "image/png": {
       "height": 420,
       "width": 420
      },
      "text/plain": {
       "height": 420,
       "width": 420
      }
     },
     "output_type": "display_data"
    },
    {
     "name": "stderr",
     "output_type": "stream",
     "text": [
      "Warning message:\n",
      "\"glm.fit: fitted probabilities numerically 0 or 1 occurred\"\n",
      "Warning message in predict.lm(object, newdata, se.fit, scale = 1, type = if (type == :\n",
      "\"prediction from a rank-deficient fit may be misleading\"\n"
     ]
    },
    {
     "data": {
      "image/png": "[encoded data removed]",
      "text/plain": [
       "plot without title"
      ]
     },
     "metadata": {
      "image/png": {
       "height": 420,
       "width": 420
      },
      "text/plain": {
       "height": 420,
       "width": 420
      }
     },
     "output_type": "display_data"
    },
    {
     "data": {
      "image/png": "[encoded data removed]",
      "text/plain": [
       "plot without title"
      ]
     },
     "metadata": {
      "image/png": {
       "height": 420,
       "width": 420
      },
      "text/plain": {
       "height": 420,
       "width": 420
      }
     },
     "output_type": "display_data"
    },
    {
     "data": {
      "image/png": "[encoded data removed]",
      "text/plain": [
       "plot without title"
      ]
     },
     "metadata": {
      "image/png": {
       "height": 420,
       "width": 420
      },
      "text/plain": {
       "height": 420,
       "width": 420
      }
     },
     "output_type": "display_data"
    }
   ],
   "source": [
    "train.acc <- c()\n",
    "test.acc <- c()\n",
    "for(numbers in 0:9){\n",
    "    y1 <- y_train;\n",
    "    y1[which(y_train != numbers)] <- 0 ; y1[which(y_train == numbers)] <- 1\n",
    "\n",
    "    dat <- data.frame(y1,x_train)\n",
    "\n",
    "    i<-sample(1:dim(x_train)[1],10000);\n",
    "    j<- setdiff(1:dim(x_train)[1],i)[1:10000]\n",
    "    datT <- dat[i,]\n",
    "    datt <- dat[j,]\n",
    "\n",
    "    #seleccionamos 1 de cada 20 pixeles\n",
    "    j<-seq(1,784,20)\n",
    "    #entrenamos nuestro modelo logístico\n",
    "    model1 <- glm(datT$y1~., data = datT[,j], family = binomial(link = \"logit\"))\n",
    "    out1 <- model1$fitted.values\n",
    "    outbin1 <- as.double(out1 > 0.5)\n",
    "    train.acc[numbers + 1 ] = 100*sum(diag(table(datT[,1], outbin1))) / length(outbin1)\n",
    "    out11<- predict(object=model1, newdata = datt[,j]);\n",
    "    outbin11 <- as.double(out11 > 0.5)\n",
    "    test.acc[numbers + 1] = 100*sum(diag(table(datt[,1], outbin11))) / length(outbin11)\n",
    "    roc<-roc(out1,as.factor(datT[,1]))\n",
    "    auc(roc)\n",
    "    plot(roc)\n",
    "}"
   ]
  }
 ],
 "metadata": {
  "kernelspec": {
   "display_name": "R",
   "language": "R",
   "name": "ir"
  },
  "language_info": {
   "codemirror_mode": "r",
   "file_extension": ".r",
   "mimetype": "text/x-r-source",
   "name": "R",
   "pygments_lexer": "r",
   "version": "3.6.1"
  }
 },
 "nbformat": 4,
 "nbformat_minor": 2
}
