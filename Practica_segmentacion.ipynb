{
 "cells": [
  {
   "cell_type": "markdown",
   "metadata": {
    "colab_type": "text",
    "id": "6h1d5l89MlP8"
   },
   "source": [
    "### Alumno: Óscar Mirones Alonso\n",
    "\n",
    "**SEGMENTACIÓN AUTOMÁTICA DE NUCLEOS USANDO UNA U-NET**"
   ]
  },
  {
   "cell_type": "markdown",
   "metadata": {
    "colab_type": "text",
    "id": "Hdnk-92JK2a0"
   },
   "source": [
    "La segmentación automática de imágenes de microscopía es una tarea importante en el procesamiento y análisis de imágenes médicas. La detección de núcleos es uno de los ejemplos más relevantes: Si se pudiera realizar de forma totalmente automatizada, se aceleraría la investigación de casi todas las enfermedades, desde el cáncer de pulmón y las enfermedades cardíacas hasta los trastornos raros. Usaremos un dataset de kaggle. Usaremos solo una pequeña muestra que podeis descargar [aqui](https://api.cloud.ifca.es:8080/swift/v1/datalabbio/datos_segmentacion.zip), pero el dataset completo está en kaggle y lo podéis descargar [aqui](https://api.cloud.ifca.es:8080/swift/v1/datalabbio/datos_segmentacion.zip)."
   ]
  },
  {
   "cell_type": "markdown",
   "metadata": {
    "_cell_guid": "88c8f888-4eb5-438e-8428-0d6f9280aa70",
    "_uuid": "3cf23599bb2587214d3f8b50d3b512bb025159f1",
    "colab_type": "text",
    "id": "ZE-Az6Xic3Qp"
   },
   "source": [
    "Vamos a utilizar una u-net para realizar segmentación semántica. Os recomiendo que leais [este artículo](https://towardsdatascience.com/understanding-semantic-segmentation-with-unet-6be4f42d4b47). Además, encontraréis en él referencias al artículo orignal de la u-net por si hay alguien interesado :-). La u-net tiene una parte de codificación y otra de decodificación, que es la que le confiera esa forma de U que da lugar a su nombre.\n",
    "![texto alternativo](https://miro.medium.com/max/1400/1*OkUrpDD6I0FpugA_bbYBJQ.png)"
   ]
  },
  {
   "cell_type": "markdown",
   "metadata": {
    "colab_type": "text",
    "id": "7h2RLl3Dd4HU"
   },
   "source": [
    "Vemos ahora un ejemplo de lo que queremos conseguir exactamente. Vemos una imagen de microscopio y debajo las imagenes de sus máscaras. Cuando la red esté entrenada, deberiamos poder meterle una imagen de microscopio nueva y que nos devuelva su máscara de capa donde en este caso habrá dos categorías: nucleo y no nucleo. Esta clasificación se hará pixel a pixel, y esto es justamente lo que se conoce como segmentación semántica. Esto nos permitiría contar núcleos de manera automática.\n",
    "\n",
    "![texto alternativo](https://dl.acm.org/cms/attachment/3e2d2318-76a6-420b-b428-fc84e7ef9dc0/tomm1601-12-f01.jpg)\n",
    "\n",
    "Como para esta práctica no vamos a tener acceso a todos los datos, solo me interesa que seais capaces de correr una u-net, que veais como se definen sus capas y entendais su arquitectura. No nos vamos a preocupar del resultado final porque para ello necesitariamos muchos más datos. \n",
    "\n",
    "Como métrica,para entrenar, vamos a utilizar la IoU media. Vimos lo que era la IoU (Intersection over Union) durante la clase de Machine Learning I, pero veamos aqui un pequeño recordatorio gráfico:\n",
    "![texto alternativo](https://pyimagesearch.com/wp-content/uploads/2016/09/iou_equation.png)\n",
    "\n",
    "Esto quiere decir que si lo hacemos perfecto, IoU sería igual a 1. La media de IoU es la media de la IoU para todas las imágenes del dataset. En esta práctica, y con las muestras que tenéis, aspiramos solo a tener un mean IoU entorno a 0.4."
   ]
  },
  {
   "cell_type": "code",
   "execution_count": 47,
   "metadata": {
    "colab": {
     "base_uri": "https://localhost:8080/",
     "height": 54
    },
    "colab_type": "code",
    "id": "0kYKQvaEdpUL",
    "outputId": "16be53f2-b09b-4622-b5ab-e17a064735b6"
   },
   "outputs": [
    {
     "name": "stdout",
     "output_type": "stream",
     "text": [
      "Drive already mounted at /content/drive; to attempt to forcibly remount, call drive.mount(\"/content/drive\", force_remount=True).\n"
     ]
    }
   ],
   "source": [
    "from google.colab import drive\n",
    "drive.mount('/content/drive')"
   ]
  },
  {
   "cell_type": "code",
   "execution_count": 0,
   "metadata": {
    "_cell_guid": "6b324c96-b92c-4c71-835a-cc6adb1c7a0c",
    "_uuid": "9d65868c23446ed123810c4187c0e598ce01c652",
    "colab": {},
    "colab_type": "code",
    "id": "9OdqZWGJc3Qr"
   },
   "outputs": [],
   "source": [
    "import os\n",
    "import sys\n",
    "import random\n",
    "import warnings\n",
    "\n",
    "import numpy as np\n",
    "import pandas as pd\n",
    "\n",
    "import matplotlib.pyplot as plt\n",
    "\n",
    "from tqdm import tqdm\n",
    "from itertools import chain\n",
    "from skimage.io import imread, imshow,imread_collection, concatenate_images\n",
    "from skimage.transform import resize\n",
    "from skimage.morphology import label\n",
    "\n",
    "from keras.models import Model, load_model\n",
    "from keras.layers import Input\n",
    "from keras.layers.core import Dropout, Lambda\n",
    "from keras.layers.convolutional import Conv2D, Conv2DTranspose\n",
    "from keras.layers.pooling import MaxPooling2D\n",
    "from keras.layers.merge import concatenate\n",
    "from keras.callbacks import EarlyStopping, ModelCheckpoint\n",
    "from keras import backend as K\n",
    "\n",
    "import tensorflow as tf\n",
    "\n",
    "# Vamos a definir algunos parámetros\n",
    "BATCH_SIZE = 1 \n",
    "IMG_WIDTH = 128 \n",
    "IMG_HEIGHT = 128 \n",
    "IMG_CHANNELS = 3\n",
    "\n",
    "#Pon el path a tu carpeta de drive donde están los datos\n",
    "TRAIN_PATH = 'drive/My Drive/cores_images/'\n"
   ]
  },
  {
   "cell_type": "markdown",
   "metadata": {
    "_cell_guid": "b2464b8e-77ba-44b1-8c78-06b1e690910d",
    "_uuid": "a3c37b92fa214f1be75ac3630927555ff40674b2",
    "colab_type": "text",
    "id": "oME2bPO1c3Qx"
   },
   "source": [
    "### *Preparando los datos*\n",
    "\n"
   ]
  },
  {
   "cell_type": "code",
   "execution_count": 0,
   "metadata": {
    "_cell_guid": "bb7da2b8-5921-4769-9bee-afab2135472d",
    "_uuid": "2ff390c2a99e276c65e34d9ed61208347cacafe2",
    "colab": {},
    "colab_type": "code",
    "id": "gX-tC-IxNEvb"
   },
   "outputs": [],
   "source": [
    "# Aqui obtenemos una lista con los nombres de los directorios donde se encuentran los datos\n",
    "train_ids = next(os.walk(TRAIN_PATH))[1]\n"
   ]
  },
  {
   "cell_type": "code",
   "execution_count": 54,
   "metadata": {
    "_cell_guid": "c6db52ac-98df-4e0f-bab2-b83565c0fde2",
    "_uuid": "ef50f72d80920e9b53c73919994199c0c9a8c955",
    "colab": {
     "base_uri": "https://localhost:8080/",
     "height": 1000
    },
    "colab_type": "code",
    "id": "H_he3pnbc3Q2",
    "outputId": "6d13f9e9-f149-4dac-9c5c-45aaf7247a8e"
   },
   "outputs": [
    {
     "name": "stdout",
     "output_type": "stream",
     "text": [
      "Obteniendo y cambiando el tamaño de las imagenes y las máscaras de capa (etiquetas) ... \n"
     ]
    },
    {
     "name": "stderr",
     "output_type": "stream",
     "text": [
      "\n",
      "\n",
      "\n",
      "  0%|          | 0/25 [00:00<?, ?it/s]\u001b[A\u001b[A\u001b[A\n",
      "\n",
      "\n",
      "  4%|▍         | 1/25 [00:00<00:12,  1.89it/s]\u001b[A\u001b[A\u001b[A\n",
      "\n",
      "\n",
      "  8%|▊         | 2/25 [00:01<00:11,  1.93it/s]\u001b[A\u001b[A\u001b[A\n",
      "\n",
      "\n",
      " 12%|█▏        | 3/25 [00:01<00:09,  2.33it/s]\u001b[A\u001b[A\u001b[A\n",
      "\n",
      "\n",
      " 16%|█▌        | 4/25 [00:01<00:07,  2.79it/s]\u001b[A\u001b[A\u001b[A\n",
      "\n",
      "\n",
      " 20%|██        | 5/25 [00:01<00:06,  3.10it/s]\u001b[A\u001b[A\u001b[A\n",
      "\n",
      "\n",
      " 24%|██▍       | 6/25 [00:02<00:06,  2.99it/s]\u001b[A\u001b[A\u001b[A\n",
      "\n",
      "\n",
      " 32%|███▏      | 8/25 [00:02<00:04,  3.93it/s]\u001b[A\u001b[A\u001b[A\n",
      "\n",
      "\n",
      " 40%|████      | 10/25 [00:02<00:03,  4.08it/s]\u001b[A\u001b[A\u001b[A\n",
      "\n",
      "\n",
      " 44%|████▍     | 11/25 [00:02<00:03,  4.18it/s]\u001b[A\u001b[A\u001b[A\n",
      "\n",
      "\n",
      " 48%|████▊     | 12/25 [00:03<00:02,  4.35it/s]\u001b[A\u001b[A\u001b[A\n",
      "\n",
      "\n",
      " 52%|█████▏    | 13/25 [00:03<00:02,  4.51it/s]\u001b[A\u001b[A\u001b[A\n",
      "\n",
      "\n",
      " 56%|█████▌    | 14/25 [00:11<00:27,  2.51s/it]\u001b[A\u001b[A\u001b[A\n",
      "\n",
      "\n",
      " 60%|██████    | 15/25 [00:11<00:18,  1.81s/it]\u001b[A\u001b[A\u001b[A\n",
      "\n",
      "\n",
      " 64%|██████▍   | 16/25 [00:11<00:12,  1.34s/it]\u001b[A\u001b[A\u001b[A\n",
      "\n",
      "\n",
      " 68%|██████▊   | 17/25 [00:11<00:08,  1.07s/it]\u001b[A\u001b[A\u001b[A\n",
      "\n",
      "\n",
      " 72%|███████▏  | 18/25 [00:12<00:05,  1.24it/s]\u001b[A\u001b[A\u001b[A\n",
      "\n",
      "\n",
      " 76%|███████▌  | 19/25 [00:12<00:03,  1.58it/s]\u001b[A\u001b[A\u001b[A\n",
      "\n",
      "\n",
      " 80%|████████  | 20/25 [00:16<00:07,  1.58s/it]\u001b[A\u001b[A\u001b[A\n",
      "\n",
      "\n",
      " 84%|████████▍ | 21/25 [00:17<00:06,  1.64s/it]\u001b[A\u001b[A\u001b[A\n",
      "\n",
      "\n",
      " 92%|█████████▏| 23/25 [00:18<00:02,  1.20s/it]\u001b[A\u001b[A\u001b[A\n",
      "\n",
      "\n",
      " 96%|█████████▌| 24/25 [00:18<00:00,  1.15it/s]\u001b[A\u001b[A\u001b[A\n",
      "\n",
      "\n",
      "100%|██████████| 25/25 [00:26<00:00,  1.04s/it]"
     ]
    },
    {
     "name": "stdout",
     "output_type": "stream",
     "text": [
      "Done!\n"
     ]
    },
    {
     "name": "stderr",
     "output_type": "stream",
     "text": [
      "\n"
     ]
    }
   ],
   "source": [
    "# Obtener las imagenes y las máscaras de capa\n",
    "X_train = np.zeros((len(train_ids), IMG_HEIGHT, IMG_WIDTH, IMG_CHANNELS), dtype=np.uint8)\n",
    "Y_train = np.zeros((len(train_ids), IMG_HEIGHT, IMG_WIDTH, 1), dtype=np.bool)\n",
    "\n",
    "print('Obteniendo y cambiando el tamaño de las imagenes y las máscaras de capa (etiquetas) ... ')\n",
    "sys.stdout.flush()\n",
    "#Fijaos en lo útil que es la función tqdm que nos permite tener una barra de estado para ir viendo la evolución\n",
    "for n, id_ in tqdm(enumerate(train_ids), total=len(train_ids)):\n",
    "    path = TRAIN_PATH + id_\n",
    "    img = imread(path + '/images/' + id_ + '.png')[:,:,:IMG_CHANNELS]\n",
    "    img = resize(img, (IMG_HEIGHT, IMG_WIDTH), mode='constant', preserve_range=True)\n",
    "    X_train[n] = img\n",
    "    mask = np.zeros((IMG_HEIGHT, IMG_WIDTH, 1), dtype=np.bool)\n",
    "    for mask_file in next(os.walk(path + '/masks/'))[2]:\n",
    "        mask_ = imread(path + '/masks/' + mask_file)\n",
    "        mask_ = np.expand_dims(resize(mask_, (IMG_HEIGHT, IMG_WIDTH), mode='constant', \n",
    "                                      preserve_range=True), axis=-1)\n",
    "        mask = np.maximum(mask, mask_)\n",
    "    Y_train[n] = mask\n",
    "\n",
    "\n",
    "print('Done!')"
   ]
  },
  {
   "cell_type": "markdown",
   "metadata": {
    "_cell_guid": "5f70481c-7b7b-4f60-8d11-e0e36030697c",
    "_uuid": "1593b0eb0503758424ce1ec5ded8d59557d4d1df",
    "colab_type": "text",
    "id": "I5d-weO5c3Q6"
   },
   "source": [
    "### *Data augmentation*"
   ]
  },
  {
   "cell_type": "code",
   "execution_count": 0,
   "metadata": {
    "_cell_guid": "0e78cfea-5120-4c18-80a0-fd09964e024d",
    "_uuid": "7448169cf1949461f30735a89f96b4c4003dccea",
    "colab": {},
    "colab_type": "code",
    "id": "xZwty2oqc3Q7"
   },
   "outputs": [],
   "source": [
    "from keras.preprocessing import image\n",
    "\n",
    "seed = 14\n",
    "#Crea los generadores y aplica data augmentation. \n",
    "#Mete modificaciones (rotaciones, reflejo especular, etc...) que tengan sentido en el caso de imagenes de microscopio. \n",
    "#Elige 4 o 5.\n",
    "image_datagen = image.ImageDataGenerator(shear_range=0.5, rotation_range=50, zoom_range=0.2,\n",
    "                                         width_shift_range=0.2, height_shift_range=0.2, fill_mode='reflect')\n",
    "mask_datagen = image.ImageDataGenerator(shear_range=0.5, rotation_range=50, zoom_range=0.2,\n",
    "                                        width_shift_range=0.2, height_shift_range=0.2, fill_mode='reflect')\n",
    "\n",
    "# Aqui cogemos el 80% de la muestra para training\n",
    "\n",
    "image_datagen.fit(X_train[:int(X_train.shape[0]*0.8)], augment=True, seed = seed)\n",
    "mask_datagen.fit(Y_train[:int(Y_train.shape[0]*0.8)], augment=True, seed = seed)\n",
    "\n",
    "x=image_datagen.flow(X_train[:int(X_train.shape[0]*0.8)],batch_size=BATCH_SIZE,shuffle=True, seed = seed)\n",
    "y=mask_datagen.flow(Y_train[:int(Y_train.shape[0]*0.8)],batch_size=BATCH_SIZE,shuffle=True, seed = seed)\n",
    "\n",
    "\n",
    "\n",
    "# Para validación vamos a hacer lo mismo, ahora nos quedaremos con el 20% **restante**\n",
    "image_datagen_val = image.ImageDataGenerator()\n",
    "mask_datagen_val = image.ImageDataGenerator()\n",
    "\n",
    "image_datagen_val.fit(X_train[int(X_train.shape[0]*0.8):], augment=True, seed = seed)\n",
    "mask_datagen_val.fit(Y_train[int(Y_train.shape[0]*0.8):], augment=True, seed = seed)\n",
    "\n",
    "x_val=image_datagen_val.flow(X_train[int(X_train.shape[0]*0.8):],batch_size=BATCH_SIZE,shuffle=True, seed = seed)\n",
    "y_val=mask_datagen_val.flow(Y_train[int(Y_train.shape[0]*0.8):],batch_size=BATCH_SIZE,shuffle=True, seed = seed)"
   ]
  },
  {
   "cell_type": "markdown",
   "metadata": {
    "colab_type": "text",
    "id": "sIQFpXg4rD_d"
   },
   "source": [
    "Visualicemos las imágenes y las máscaras de capa"
   ]
  },
  {
   "cell_type": "code",
   "execution_count": 103,
   "metadata": {
    "_cell_guid": "a6a85b26-695e-4975-b22f-80a79209c370",
    "_uuid": "22785cbdcdf3e7712ba2423a90869e44bd74e28c",
    "colab": {
     "base_uri": "https://localhost:8080/",
     "height": 1000
    },
    "colab_type": "code",
    "id": "FF4u4cHCc3Q_",
    "outputId": "ed9087f7-56e8-47f6-82e2-40d19090bfa8"
   },
   "outputs": [
    {
     "data": {
      "image/png": "[encoded data removed]",
      "text/plain": [
       "<Figure size 432x288 with 1 Axes>"
      ]
     },
     "metadata": {
      "needs_background": "light",
      "tags": []
     },
     "output_type": "display_data"
    },
    {
     "name": "stderr",
     "output_type": "stream",
     "text": [
      "/usr/local/lib/python3.6/dist-packages/skimage/io/_plugins/matplotlib_plugin.py:150: UserWarning: Low image data range; displaying image with stretched contrast.\n",
      "  lo, hi, cmap = _get_display_range(image)\n"
     ]
    },
    {
     "data": {
      "image/png": "[encoded data removed]",
      "text/plain": [
       "<Figure size 432x288 with 2 Axes>"
      ]
     },
     "metadata": {
      "needs_background": "light",
      "tags": []
     },
     "output_type": "display_data"
    },
    {
     "data": {
      "image/png": "[encoded data removed]",
      "text/plain": [
       "<Figure size 432x288 with 1 Axes>"
      ]
     },
     "metadata": {
      "needs_background": "light",
      "tags": []
     },
     "output_type": "display_data"
    },
    {
     "data": {
      "image/png": "[encoded data removed]",
      "text/plain": [
       "<Figure size 432x288 with 2 Axes>"
      ]
     },
     "metadata": {
      "needs_background": "light",
      "tags": []
     },
     "output_type": "display_data"
    }
   ],
   "source": [
    "from matplotlib import pyplot as plt\n",
    "%matplotlib inline\n",
    "\n",
    "imshow(x.next()[0].astype(np.uint8))\n",
    "plt.show()\n",
    "imshow(np.squeeze(y.next()[0].astype(np.uint8)))\n",
    "plt.show()\n",
    "imshow(x_val.next()[0].astype(np.uint8))\n",
    "plt.show()\n",
    "imshow(np.squeeze(y_val.next()[0].astype(np.uint8)))\n",
    "plt.show()"
   ]
  },
  {
   "cell_type": "code",
   "execution_count": 0,
   "metadata": {
    "_cell_guid": "54ec711a-1380-426f-8223-b03a62c659a2",
    "_uuid": "a23269d50bba3f2521202ff835fd5a4d34c785e9",
    "colab": {},
    "colab_type": "code",
    "id": "cV2wviTuc3RC"
   },
   "outputs": [],
   "source": [
    "#Creamos un generador de train y de val que nos genere las imágenes y las máscaras\n",
    "train_generator = zip(x, y)\n",
    "val_generator = zip(x_val, y_val)"
   ]
  },
  {
   "cell_type": "markdown",
   "metadata": {
    "_cell_guid": "ae011253-08b8-44db-8be9-c1092e171553",
    "_uuid": "17f9af12f2fc93a2e57c3cfdc3c122f97f1fa7e4",
    "colab_type": "text",
    "id": "p3RhL6y8c3RF"
   },
   "source": [
    "### *Construyendo el modelo u-net.*"
   ]
  },
  {
   "cell_type": "markdown",
   "metadata": {
    "colab_type": "text",
    "id": "UCtsQA3TZDAD"
   },
   "source": [
    " La estructura es distinta a como lo solemos hacer, fijaos en que a cada capa se le va diciendo explícitamente cual es la capa de input que tiene que coger. Esto se hace así porque si os fijais, en una U-net, la parte de decodificación necesita concatenar como input varias capas (fijaos en el gráfico de arriba donde se muestra la u-net). Atención a la nueva manera de normalizar el input según va entrando en la red. Usaremos de función de activación la función elu (exponential linear unit). Más información sobre esta función de activación [aqui](https://medium.com/@krishnakalyan3/introduction-to-exponential-linear-unit-d3e2904b366c)."
   ]
  },
  {
   "cell_type": "code",
   "execution_count": 105,
   "metadata": {
    "_cell_guid": "0f97a2d9-a9a0-4399-bbca-198cdda087b6",
    "_uuid": "ab499cefbbe8dc514c6347fe203d87eb7974adf0",
    "colab": {
     "base_uri": "https://localhost:8080/",
     "height": 1000
    },
    "colab_type": "code",
    "id": "CRtpI8Tqc3RJ",
    "outputId": "fae5da6e-9aaa-4240-f2a6-b254bc1eafc3"
   },
   "outputs": [
    {
     "name": "stdout",
     "output_type": "stream",
     "text": [
      "Model: \"model_17\"\n",
      "__________________________________________________________________________________________________\n",
      "Layer (type)                    Output Shape         Param #     Connected to                     \n",
      "==================================================================================================\n",
      "input_17 (InputLayer)           (None, 128, 128, 3)  0                                            \n",
      "__________________________________________________________________________________________________\n",
      "lambda_17 (Lambda)              (None, 128, 128, 3)  0           input_17[0][0]                   \n",
      "__________________________________________________________________________________________________\n",
      "conv2d_305 (Conv2D)             (None, 128, 128, 16) 448         lambda_17[0][0]                  \n",
      "__________________________________________________________________________________________________\n",
      "dropout_145 (Dropout)           (None, 128, 128, 16) 0           conv2d_305[0][0]                 \n",
      "__________________________________________________________________________________________________\n",
      "conv2d_306 (Conv2D)             (None, 128, 128, 16) 2320        dropout_145[0][0]                \n",
      "__________________________________________________________________________________________________\n",
      "max_pooling2d_65 (MaxPooling2D) (None, 64, 64, 16)   0           conv2d_306[0][0]                 \n",
      "__________________________________________________________________________________________________\n",
      "conv2d_307 (Conv2D)             (None, 64, 64, 32)   4640        max_pooling2d_65[0][0]           \n",
      "__________________________________________________________________________________________________\n",
      "dropout_146 (Dropout)           (None, 64, 64, 32)   0           conv2d_307[0][0]                 \n",
      "__________________________________________________________________________________________________\n",
      "conv2d_308 (Conv2D)             (None, 64, 64, 32)   9248        dropout_146[0][0]                \n",
      "__________________________________________________________________________________________________\n",
      "max_pooling2d_66 (MaxPooling2D) (None, 32, 32, 32)   0           conv2d_308[0][0]                 \n",
      "__________________________________________________________________________________________________\n",
      "conv2d_309 (Conv2D)             (None, 32, 32, 64)   18496       max_pooling2d_66[0][0]           \n",
      "__________________________________________________________________________________________________\n",
      "dropout_147 (Dropout)           (None, 32, 32, 64)   0           conv2d_309[0][0]                 \n",
      "__________________________________________________________________________________________________\n",
      "conv2d_310 (Conv2D)             (None, 32, 32, 64)   36928       dropout_147[0][0]                \n",
      "__________________________________________________________________________________________________\n",
      "max_pooling2d_67 (MaxPooling2D) (None, 16, 16, 64)   0           conv2d_310[0][0]                 \n",
      "__________________________________________________________________________________________________\n",
      "conv2d_311 (Conv2D)             (None, 16, 16, 128)  73856       max_pooling2d_67[0][0]           \n",
      "__________________________________________________________________________________________________\n",
      "dropout_148 (Dropout)           (None, 16, 16, 128)  0           conv2d_311[0][0]                 \n",
      "__________________________________________________________________________________________________\n",
      "conv2d_312 (Conv2D)             (None, 16, 16, 128)  147584      dropout_148[0][0]                \n",
      "__________________________________________________________________________________________________\n",
      "max_pooling2d_68 (MaxPooling2D) (None, 8, 8, 128)    0           conv2d_312[0][0]                 \n",
      "__________________________________________________________________________________________________\n",
      "conv2d_313 (Conv2D)             (None, 8, 8, 256)    295168      max_pooling2d_68[0][0]           \n",
      "__________________________________________________________________________________________________\n",
      "dropout_149 (Dropout)           (None, 8, 8, 256)    0           conv2d_313[0][0]                 \n",
      "__________________________________________________________________________________________________\n",
      "conv2d_314 (Conv2D)             (None, 8, 8, 256)    590080      dropout_149[0][0]                \n",
      "__________________________________________________________________________________________________\n",
      "conv2d_transpose_65 (Conv2DTran (None, 16, 16, 128)  131200      conv2d_314[0][0]                 \n",
      "__________________________________________________________________________________________________\n",
      "concatenate_65 (Concatenate)    (None, 16, 16, 256)  0           conv2d_transpose_65[0][0]        \n",
      "                                                                 conv2d_312[0][0]                 \n",
      "__________________________________________________________________________________________________\n",
      "conv2d_315 (Conv2D)             (None, 16, 16, 128)  295040      concatenate_65[0][0]             \n",
      "__________________________________________________________________________________________________\n",
      "dropout_150 (Dropout)           (None, 16, 16, 128)  0           conv2d_315[0][0]                 \n",
      "__________________________________________________________________________________________________\n",
      "conv2d_316 (Conv2D)             (None, 16, 16, 128)  147584      dropout_150[0][0]                \n",
      "__________________________________________________________________________________________________\n",
      "conv2d_transpose_66 (Conv2DTran (None, 32, 32, 64)   32832       conv2d_316[0][0]                 \n",
      "__________________________________________________________________________________________________\n",
      "concatenate_66 (Concatenate)    (None, 32, 32, 128)  0           conv2d_transpose_66[0][0]        \n",
      "                                                                 conv2d_310[0][0]                 \n",
      "__________________________________________________________________________________________________\n",
      "conv2d_317 (Conv2D)             (None, 32, 32, 64)   73792       concatenate_66[0][0]             \n",
      "__________________________________________________________________________________________________\n",
      "dropout_151 (Dropout)           (None, 32, 32, 64)   0           conv2d_317[0][0]                 \n",
      "__________________________________________________________________________________________________\n",
      "conv2d_318 (Conv2D)             (None, 32, 32, 64)   36928       dropout_151[0][0]                \n",
      "__________________________________________________________________________________________________\n",
      "conv2d_transpose_67 (Conv2DTran (None, 64, 64, 32)   8224        conv2d_318[0][0]                 \n",
      "__________________________________________________________________________________________________\n",
      "concatenate_67 (Concatenate)    (None, 64, 64, 64)   0           conv2d_transpose_67[0][0]        \n",
      "                                                                 conv2d_308[0][0]                 \n",
      "__________________________________________________________________________________________________\n",
      "conv2d_319 (Conv2D)             (None, 64, 64, 32)   18464       concatenate_67[0][0]             \n",
      "__________________________________________________________________________________________________\n",
      "dropout_152 (Dropout)           (None, 64, 64, 32)   0           conv2d_319[0][0]                 \n",
      "__________________________________________________________________________________________________\n",
      "conv2d_320 (Conv2D)             (None, 64, 64, 32)   9248        dropout_152[0][0]                \n",
      "__________________________________________________________________________________________________\n",
      "conv2d_transpose_68 (Conv2DTran (None, 128, 128, 16) 2064        conv2d_320[0][0]                 \n",
      "__________________________________________________________________________________________________\n",
      "concatenate_68 (Concatenate)    (None, 128, 128, 32) 0           conv2d_transpose_68[0][0]        \n",
      "                                                                 conv2d_306[0][0]                 \n",
      "__________________________________________________________________________________________________\n",
      "conv2d_321 (Conv2D)             (None, 128, 128, 16) 4624        concatenate_68[0][0]             \n",
      "__________________________________________________________________________________________________\n",
      "dropout_153 (Dropout)           (None, 128, 128, 16) 0           conv2d_321[0][0]                 \n",
      "__________________________________________________________________________________________________\n",
      "conv2d_322 (Conv2D)             (None, 128, 128, 16) 2320        dropout_153[0][0]                \n",
      "__________________________________________________________________________________________________\n",
      "conv2d_323 (Conv2D)             (None, 128, 128, 1)  17          conv2d_322[0][0]                 \n",
      "==================================================================================================\n",
      "Total params: 1,941,105\n",
      "Trainable params: 1,941,105\n",
      "Non-trainable params: 0\n",
      "__________________________________________________________________________________________________\n"
     ]
    }
   ],
   "source": [
    "\n",
    "inputs = Input((IMG_HEIGHT, IMG_WIDTH, IMG_CHANNELS))\n",
    "s = Lambda(lambda x: x / 255) (inputs)\n",
    "\n",
    "c1 = Conv2D(16, (3, 3), activation='elu', kernel_initializer='he_normal', padding='same') (s)\n",
    "c1 = Dropout(0.1) (c1)\n",
    "c1 = Conv2D(16, (3, 3), activation='elu', kernel_initializer='he_normal', padding='same') (c1)\n",
    "p1 = MaxPooling2D((2, 2)) (c1)\n",
    "\n",
    "c2 = Conv2D(32, (3, 3), activation='elu', kernel_initializer='he_normal', padding='same') (p1)\n",
    "c2 = Dropout(0.1) (c2)\n",
    "c2 = Conv2D(32, (3, 3), activation='elu', kernel_initializer='he_normal', padding='same') (c2)\n",
    "p2 = MaxPooling2D((2, 2)) (c2)\n",
    "\n",
    "c3 = Conv2D(64, (3, 3), activation='elu', kernel_initializer='he_normal', padding='same') (p2)\n",
    "c3 = Dropout(0.2) (c3)\n",
    "c3 = Conv2D(64, (3, 3), activation='elu', kernel_initializer='he_normal', padding='same') (c3)\n",
    "p3 = MaxPooling2D((2, 2)) (c3)\n",
    "\n",
    "c4 = Conv2D(128, (3, 3), activation='elu', kernel_initializer='he_normal', padding='same') (p3)\n",
    "c4 = Dropout(0.2) (c4)\n",
    "c4 = Conv2D(128, (3, 3), activation='elu', kernel_initializer='he_normal', padding='same') (c4)\n",
    "p4 = MaxPooling2D(pool_size=(2, 2)) (c4)\n",
    "\n",
    "c5 = Conv2D(256, (3, 3), activation='elu', kernel_initializer='he_normal', padding='same') (p4)\n",
    "c5 = Dropout(0.3) (c5)\n",
    "c5 = Conv2D(256, (3, 3), activation='elu', kernel_initializer='he_normal', padding='same') (c5)\n",
    "\n",
    "u6 = Conv2DTranspose(128, (2, 2), strides=(2, 2), padding='same') (c5)\n",
    "u6 = concatenate([u6, c4])\n",
    "c6 = Conv2D(128, (3, 3), activation='elu', kernel_initializer='he_normal', padding='same') (u6)\n",
    "c6 = Dropout(0.2) (c6)\n",
    "c6 = Conv2D(128, (3, 3), activation='elu', kernel_initializer='he_normal', padding='same') (c6)\n",
    "\n",
    "u7 = Conv2DTranspose(64, (2, 2), strides=(2, 2), padding='same') (c6)\n",
    "u7 = concatenate([u7, c3])\n",
    "c7 = Conv2D(64, (3, 3), activation='elu', kernel_initializer='he_normal', padding='same') (u7)\n",
    "c7 = Dropout(0.2) (c7)\n",
    "c7 = Conv2D(64, (3, 3), activation='elu', kernel_initializer='he_normal', padding='same') (c7)\n",
    "\n",
    "u8 = Conv2DTranspose(32, (2, 2), strides=(2, 2), padding='same') (c7)\n",
    "u8 = concatenate([u8, c2])\n",
    "c8 = Conv2D(32, (3, 3), activation='elu', kernel_initializer='he_normal', padding='same') (u8)\n",
    "c8 = Dropout(0.1) (c8)\n",
    "c8 = Conv2D(32, (3, 3), activation='elu', kernel_initializer='he_normal', padding='same') (c8)\n",
    "\n",
    "u9 = Conv2DTranspose(16, (2, 2), strides=(2, 2), padding='same') (c8)\n",
    "u9 = concatenate([u9, c1], axis=3)\n",
    "c9 = Conv2D(16, (3, 3), activation='elu', kernel_initializer='he_normal', padding='same') (u9)\n",
    "c9 = Dropout(0.1) (c9)\n",
    "c9 = Conv2D(16, (3, 3), activation='elu', kernel_initializer='he_normal', padding='same') (c9)\n",
    "\n",
    "outputs = Conv2D(1, (1, 1), activation='sigmoid') (c9)\n",
    " \n",
    "#Utiliza como metrica la IoU media (MeanIoU en Keras), y optimizador adam, y como función de pérdida ¿Qué función tiene sentido poner?\n",
    "model = Model(inputs=[inputs], outputs=[outputs])\n",
    "model.compile(optimizer='adam', loss='binary_crossentropy', metrics=[tf.keras.metrics.MeanIoU(2)])\n",
    "model.summary()"
   ]
  },
  {
   "cell_type": "markdown",
   "metadata": {
    "_cell_guid": "5d17d35a-753d-47c5-b1d7-7effa1af04a7",
    "_uuid": "a9378262b0194c0aa54df3e2ea5696b447f8ef83",
    "colab_type": "text",
    "id": "Z9fH_YBQc3RM"
   },
   "source": [
    "### *Entrenando*"
   ]
  },
  {
   "cell_type": "code",
   "execution_count": 106,
   "metadata": {
    "_cell_guid": "2cc45263-7607-4d9d-b0e0-88b3135ba60b",
    "_uuid": "440055f1d1feb25fe08f942d15257e2454d2022b",
    "colab": {
     "base_uri": "https://localhost:8080/",
     "height": 309
    },
    "colab_type": "code",
    "id": "UAlJZh7Hc3RM",
    "outputId": "907ed845-7c0f-4022-a3dc-6915429ba845"
   },
   "outputs": [
    {
     "name": "stdout",
     "output_type": "stream",
     "text": [
      "Epoch 1/10\n",
      "255/255 [==============================] - 10s 38ms/step - loss: 0.4890 - mean_io_u_1: 0.4005 - val_loss: 0.2410 - val_mean_io_u_1: 0.4008\n",
      "Epoch 2/10\n",
      "255/255 [==============================] - 8s 30ms/step - loss: 0.2875 - mean_io_u_1: 0.4014 - val_loss: 0.1470 - val_mean_io_u_1: 0.4009\n",
      "Epoch 3/10\n",
      "255/255 [==============================] - 7s 29ms/step - loss: 0.2243 - mean_io_u_1: 0.4013 - val_loss: 0.1371 - val_mean_io_u_1: 0.4016\n",
      "Epoch 4/10\n",
      "255/255 [==============================] - 7s 29ms/step - loss: 0.1819 - mean_io_u_1: 0.4016 - val_loss: 0.2356 - val_mean_io_u_1: 0.4018\n",
      "Epoch 5/10\n",
      "255/255 [==============================] - 7s 29ms/step - loss: 0.1510 - mean_io_u_1: 0.4017 - val_loss: 0.0314 - val_mean_io_u_1: 0.4018\n",
      "Epoch 6/10\n",
      "255/255 [==============================] - 7s 28ms/step - loss: 0.1320 - mean_io_u_1: 0.4020 - val_loss: 0.1210 - val_mean_io_u_1: 0.4022\n",
      "Epoch 7/10\n",
      "255/255 [==============================] - 7s 29ms/step - loss: 0.1690 - mean_io_u_1: 0.4021 - val_loss: 0.2694 - val_mean_io_u_1: 0.4020\n",
      "Epoch 8/10\n",
      "255/255 [==============================] - 7s 29ms/step - loss: 0.1388 - mean_io_u_1: 0.4021 - val_loss: 0.1876 - val_mean_io_u_1: 0.4021\n"
     ]
    }
   ],
   "source": [
    "# Mete early stopping y entrena durante 10 épocas. Recuerda meter también el generador de validación.\n",
    "results = model.fit_generator(train_generator,validation_data=val_generator, epochs = 10,\n",
    "                              steps_per_epoch = 255 ,\n",
    "                              validation_steps=10, callbacks = [EarlyStopping(patience = 3)])\n",
    "\n"
   ]
  },
  {
   "cell_type": "markdown",
   "metadata": {
    "_cell_guid": "6e12a9f1-279f-4031-b8c5-4f825f84cc13",
    "_uuid": "168a4d55c79c92cd17a398cff13876fb0b32cdbf",
    "colab_type": "text",
    "id": "yVL4QV9wc3RP"
   },
   "source": [
    "Observamos que, como durante 3 épocas no mejora, se detiene en la octava debido al early stopping.\n",
    "\n",
    "### *Prediciendo*"
   ]
  },
  {
   "cell_type": "markdown",
   "metadata": {
    "colab_type": "text",
    "id": "jpf_BlKwq-K-"
   },
   "source": [
    "Vamos a ver como quedarían algunas de las muestras de validación. Para ello repite lo que has hecho arriba y coge el 20% final de X_train."
   ]
  },
  {
   "cell_type": "code",
   "execution_count": 119,
   "metadata": {
    "_cell_guid": "ef72a295-7187-41d6-9ecf-c5ee201f000d",
    "_uuid": "f9b92b3ce2079288fe8a2ed75f3c8679ee93113f",
    "colab": {
     "base_uri": "https://localhost:8080/",
     "height": 874
    },
    "colab_type": "code",
    "id": "E4VmqxX2c3RP",
    "outputId": "963d2649-d24c-44a0-ce91-a83566a40497"
   },
   "outputs": [
    {
     "name": "stdout",
     "output_type": "stream",
     "text": [
      "\r",
      "5/5 [==============================] - 0s 3ms/step\n"
     ]
    },
    {
     "data": {
      "image/png": "[encoded data removed]",
      "text/plain": [
       "<Figure size 432x288 with 1 Axes>"
      ]
     },
     "metadata": {
      "needs_background": "light",
      "tags": []
     },
     "output_type": "display_data"
    },
    {
     "data": {
      "image/png": "[encoded data removed]",
      "text/plain": [
       "<Figure size 432x288 with 1 Axes>"
      ]
     },
     "metadata": {
      "needs_background": "light",
      "tags": []
     },
     "output_type": "display_data"
    },
    {
     "data": {
      "image/png": "[encoded data removed]",
      "text/plain": [
       "<Figure size 432x288 with 1 Axes>"
      ]
     },
     "metadata": {
      "needs_background": "light",
      "tags": []
     },
     "output_type": "display_data"
    }
   ],
   "source": [
    "# Predecir en train y en validación\n",
    "preds_val = model.predict(X_train[int(X_train.shape[0]*0.8):], verbose=1)\n",
    "ix = random.randint(0, len(preds_val))\n",
    "imshow(X_train[int(X_train.shape[0]*0.8):][ix])\n",
    "plt.show()\n",
    "imshow(np.squeeze(Y_train[int(Y_train.shape[0]*0.8):][ix]))\n",
    "plt.show()\n",
    "imshow(np.squeeze(preds_val[ix]))\n",
    "plt.show()"
   ]
  }
 ],
 "metadata": {
  "accelerator": "GPU",
  "colab": {
   "collapsed_sections": [],
   "name": "Practica_segmentacion.ipynb",
   "provenance": [],
   "toc_visible": true
  },
  "kernelspec": {
   "display_name": "Python 3",
   "language": "python",
   "name": "python3"
  },
  "language_info": {
   "codemirror_mode": {
    "name": "ipython",
    "version": 3
   },
   "file_extension": ".py",
   "mimetype": "text/x-python",
   "name": "python",
   "nbconvert_exporter": "python",
   "pygments_lexer": "ipython3",
   "version": "3.7.7"
  }
 },
 "nbformat": 4,
 "nbformat_minor": 1
}
