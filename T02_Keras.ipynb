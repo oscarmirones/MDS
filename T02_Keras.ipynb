{
 "cells": [
  {
   "cell_type": "markdown",
   "metadata": {},
   "source": [
    "# Tarea 2: Construcción de Red Neuronal con Keras\n",
    "\n",
    "### Óscar Mirones Alonso\n",
    "\n",
    "En esta práctica trataremos construir una red neuronal para la predicción de lluvia en Lisboa utilizando la libreria de Keras.\n",
    "Para ello vamos a realizar dos redes diferentes. La primera red se encargará de realizar la clasificación binaria de días en los que llueve y los que no. El umbral considerado para esta discretización es 1mm. Por otro lado, se hará otra red para estimar la cantidad de lluvia que precipita."
   ]
  },
  {
   "cell_type": "code",
   "execution_count": 1,
   "metadata": {},
   "outputs": [
    {
     "name": "stderr",
     "output_type": "stream",
     "text": [
      "Warning message:\n",
      "\"package 'keras' was built under R version 3.6.2\"\n"
     ]
    }
   ],
   "source": [
    "library(keras)"
   ]
  },
  {
   "cell_type": "markdown",
   "metadata": {},
   "source": [
    "El primer paso que vamos a realizar es un preprocesado de datos. Como observamos disponemos de muchas variables en nuestro dataset. En clima, es normal y conveniente realizar una selección de variables, ya que algunas de ellas pueden llegar a ser redundantes y dar lugares a problemas en nuestro modelo. Por ello, he decidido calcular las correlaciones y eliminar aquellas columnas que se encuentren entre -0.4 -0.4 (este método ya le utilizamos con Sixto en una práctica de Minería de Datos). Además, se realiza un escalado de los datos, ya que en clima las variables tienen distintas medidas y rangos de valores. Con lo cual, estos dos pasos en el preprocesado de datos son fundamentales."
   ]
  },
  {
   "cell_type": "code",
   "execution_count": 2,
   "metadata": {},
   "outputs": [
    {
     "name": "stdout",
     "output_type": "stream",
     "text": [
      "[1] \"Dimensiones:\"\n",
      "[1] 8766   37\n",
      "[1] 2192   37\n",
      "[1] 8766\n",
      "[1] 2192\n"
     ]
    }
   ],
   "source": [
    "data = read.csv('meteo.csv')\n",
    "data = data[-1]\n",
    "ind.train= 1:8766\n",
    "ind.test = 8767:10958\n",
    "\n",
    "corrs = cor(data[-1],data[1], method = 'spearman')\n",
    "index = which(-0.4 > corrs | corrs > 0.4)\n",
    "\n",
    "data_x = data[-1]\n",
    "data_y = data[,1]\n",
    "data_x = data_x[,index]\n",
    "target_y_train = data_y[ind.train]\n",
    "target_y_test = data_y[ind.test]\n",
    "#escalamos los predictores\n",
    "predictors_train = scale(data_x[ind.train,])\n",
    "predictors_test = scale(data_x[ind.test,])\n",
    "print('Dimensiones:')\n",
    "print(dim(predictors_train))\n",
    "print(dim(predictors_test))\n",
    "print(length(target_y_train))\n",
    "print(length(target_y_test))"
   ]
  },
  {
   "cell_type": "markdown",
   "metadata": {},
   "source": [
    "Pasamos a binaria la variable objetivo que será utilizada para la clasificación de ocurrencia de lluvia."
   ]
  },
  {
   "cell_type": "code",
   "execution_count": 3,
   "metadata": {},
   "outputs": [],
   "source": [
    "y_binary_train = ifelse(data_y[ind.train] >= 1, 1, 0)\n",
    "y_binary_test = ifelse(data_y[ind.test] >= 1, 1, 0)"
   ]
  },
  {
   "cell_type": "markdown",
   "metadata": {},
   "source": [
    "# Modelo de clasificación de ocurrencia de lluvia"
   ]
  },
  {
   "cell_type": "markdown",
   "metadata": {},
   "source": [
    "La arquitectura es la siguiente:\n",
    "+ Dos capas, una de 32 neuronas y otra con 64, con activación sigmoidal(se probó relu pero se obtuvieron peores resultados)\n",
    "+ Una capa de salidad con 1 neurona con activación sigmoidal(dado que es clasificación binaria)"
   ]
  },
  {
   "cell_type": "code",
   "execution_count": 5,
   "metadata": {},
   "outputs": [],
   "source": [
    "model1 = keras_model_sequential() "
   ]
  },
  {
   "cell_type": "code",
   "execution_count": 6,
   "metadata": {},
   "outputs": [
    {
     "name": "stdout",
     "output_type": "stream",
     "text": [
      "Model\n",
      "Model: \"sequential\"\n",
      "________________________________________________________________________________\n",
      "Layer (type)                        Output Shape                    Param #     \n",
      "================================================================================\n",
      "dense (Dense)                       (None, 32)                      1216        \n",
      "________________________________________________________________________________\n",
      "dense_1 (Dense)                     (None, 64)                      2112        \n",
      "________________________________________________________________________________\n",
      "dense_2 (Dense)                     (None, 1)                       65          \n",
      "================================================================================\n",
      "Total params: 3,393\n",
      "Trainable params: 3,393\n",
      "Non-trainable params: 0\n",
      "________________________________________________________________________________\n",
      "\n",
      "\n"
     ]
    }
   ],
   "source": [
    "model1 %>% \n",
    "  layer_dense(units = 32, input_shape = ncol(predictors_train), activation = \"sigmoid\") %>% # Primera capa oculta\n",
    "  layer_dense(units = 64, input_shape = ncol(predictors_train), activation = \"sigmoid\") %>% # Primera capa oculta\n",
    "  layer_dense(units = 1, activation='sigmoid') #capa final\n",
    "str(model1)"
   ]
  },
  {
   "cell_type": "markdown",
   "metadata": {},
   "source": [
    "Como optimizador usaremos Adam Optimization ya que suele funcionar bien con cualquier tipo de red combinando SGD con momentum y RMSprop. Como función de pérdida tenemos la binary crossentropy ya que es un problema de clasificación binaria. Como métrica se usa el AUC."
   ]
  },
  {
   "cell_type": "code",
   "execution_count": 7,
   "metadata": {},
   "outputs": [],
   "source": [
    "model1 %>% compile(\n",
    "  optimizer = 'adam',\n",
    "  loss = \"binary_crossentropy\",\n",
    "  metrics = \"AUC\"\n",
    ")"
   ]
  },
  {
   "cell_type": "markdown",
   "metadata": {},
   "source": [
    "En el fit añadimos:\n",
    "+ Entrenamiento en 100 épocas\n",
    "+ Tamaño de batch de 100, ya que nuestro dataset es pequeño\n",
    "+ Se hace un validation split a partir del conjunto de train\n",
    "+ Early stopping para evitar incurrir en sobreajuste"
   ]
  },
  {
   "cell_type": "code",
   "execution_count": 8,
   "metadata": {},
   "outputs": [
    {
     "data": {
      "text/plain": [
       "Trained on 7,012 samples (batch_size=100, epochs=100)\n",
       "Final epoch (plot to see history):\n",
       "    loss: 0.2898\n",
       "     AUC: 0.9148\n",
       "val_loss: 0.2809\n",
       " val_AUC: 0.9226 "
      ]
     },
     "metadata": {},
     "output_type": "display_data"
    },
    {
     "data": {
      "image/png": "[encoded data removed]",
      "text/plain": [
       "plot without title"
      ]
     },
     "metadata": {
      "image/png": {
       "height": 420,
       "width": 420
      },
      "text/plain": {
       "height": 420,
       "width": 420
      }
     },
     "output_type": "display_data"
    }
   ],
   "source": [
    "history = model1 %>% fit(predictors_train, y_binary_train, epochs = 100, batch_size = 100,\n",
    "                        validation_split=0.2,\n",
    "                        callbacks = callback_early_stopping(patience = 20))\n",
    "history\n",
    "plot(history)"
   ]
  },
  {
   "cell_type": "markdown",
   "metadata": {},
   "source": [
    "Observamos que en las 100 épocas no se ha incurrido en sobreajuste y el error desciende progresivamente así como el AUC aumenta, obteniendo un AUC bastante alto y un error bajo.\n",
    "\n",
    "Veamos como realiza la predicción con el conjunto de test."
   ]
  },
  {
   "cell_type": "code",
   "execution_count": 10,
   "metadata": {},
   "outputs": [
    {
     "data": {
      "text/plain": [
       "Confusion Matrix and Statistics\n",
       "\n",
       "          Reference\n",
       "Prediction    0    1\n",
       "         0 1690  137\n",
       "         1  116  249\n",
       "                                          \n",
       "               Accuracy : 0.8846          \n",
       "                 95% CI : (0.8705, 0.8977)\n",
       "    No Information Rate : 0.8239          \n",
       "    P-Value [Acc > NIR] : 2.569e-15       \n",
       "                                          \n",
       "                  Kappa : 0.5935          \n",
       "                                          \n",
       " Mcnemar's Test P-Value : 0.2086          \n",
       "                                          \n",
       "            Sensitivity : 0.9358          \n",
       "            Specificity : 0.6451          \n",
       "         Pos Pred Value : 0.9250          \n",
       "         Neg Pred Value : 0.6822          \n",
       "             Prevalence : 0.8239          \n",
       "         Detection Rate : 0.7710          \n",
       "   Detection Prevalence : 0.8335          \n",
       "      Balanced Accuracy : 0.7904          \n",
       "                                          \n",
       "       'Positive' Class : 0               \n",
       "                                          "
      ]
     },
     "metadata": {},
     "output_type": "display_data"
    }
   ],
   "source": [
    "library(caret)\n",
    "pred = predict_classes(model1,predictors_test)\n",
    "confusionMatrix(as.factor(pred),as.factor(y_binary_test))"
   ]
  },
  {
   "cell_type": "markdown",
   "metadata": {},
   "source": [
    "Parece que el modelo generaliza bastante bien."
   ]
  },
  {
   "cell_type": "code",
   "execution_count": 11,
   "metadata": {},
   "outputs": [],
   "source": [
    "model1 %>% save_model_hdf5(\"modelo_occ.h5\")"
   ]
  },
  {
   "cell_type": "markdown",
   "metadata": {},
   "source": [
    "# Modelo de predicción de cantidad de lluvia\n",
    "\n",
    "En este caso hemos tenido que realizar varios intentos para tener una arquitectura que funcionase adecuadamente. Durante las pruebas hemos tenido que lidiar con un problema de sobreajuste, por ello hemos empleado técnicas para generalizar nuestro modelo. Estas técnicas son el dropout. La estructura de la red es la siguiente:\n",
    "+ Dos capas densas con 25 y 50 neuronas con función de activación sigmoidal. Hemos probado con relu pero obteniamos peores resultados.\n",
    "+ Después de cada capa densa aplicamos un dropout con probabilidad de 0.5. Esto apagará neuronas aleatoriamente, haciendo más sencillo el modelo, aporta una mayor generalización al modelo y evita que algún nodo se sobreespecialice. Del mismo modo, evita que un input dependa de un cierto nodo en concreto.\n",
    "+ Una capa de salida con una neurona con una activación lineal, dado que buscamos una regresión."
   ]
  },
  {
   "cell_type": "code",
   "execution_count": 13,
   "metadata": {},
   "outputs": [],
   "source": [
    "model2 = keras_model_sequential() "
   ]
  },
  {
   "cell_type": "code",
   "execution_count": 14,
   "metadata": {},
   "outputs": [
    {
     "name": "stdout",
     "output_type": "stream",
     "text": [
      "Model\n",
      "Model: \"sequential_2\"\n",
      "________________________________________________________________________________\n",
      "Layer (type)                        Output Shape                    Param #     \n",
      "================================================================================\n",
      "dense_3 (Dense)                     (None, 25)                      950         \n",
      "________________________________________________________________________________\n",
      "dropout (Dropout)                   (None, 25)                      0           \n",
      "________________________________________________________________________________\n",
      "dense_4 (Dense)                     (None, 50)                      1300        \n",
      "________________________________________________________________________________\n",
      "dropout_1 (Dropout)                 (None, 50)                      0           \n",
      "________________________________________________________________________________\n",
      "dense_5 (Dense)                     (None, 1)                       51          \n",
      "================================================================================\n",
      "Total params: 2,301\n",
      "Trainable params: 2,301\n",
      "Non-trainable params: 0\n",
      "________________________________________________________________________________\n",
      "\n",
      "\n"
     ]
    }
   ],
   "source": [
    "model2 %>% \n",
    "  layer_dense(units = 25, input_shape = ncol(predictors_train), activation = \"sigmoid\") %>% # Primera capa oculta\n",
    "  layer_dropout(rate = 0.5) %>%\n",
    "  layer_dense(units = 50, input_shape = ncol(predictors_train), activation = \"sigmoid\") %>% # \n",
    "  layer_dropout(rate = 0.5) %>%\n",
    "  layer_dense(units = 1, activation = 'linear') #capa final\n",
    "str(model2)"
   ]
  },
  {
   "cell_type": "markdown",
   "metadata": {},
   "source": [
    "Al igual que en el anterior modelo, optamos por usar Adam ya que nos ha dado buenos resultados. En este caso la función de pérdida será MSE y como métrica hemos elegido MAE."
   ]
  },
  {
   "cell_type": "code",
   "execution_count": 15,
   "metadata": {},
   "outputs": [],
   "source": [
    "model2 %>% compile(\n",
    "  optimizer = 'adam', \n",
    "  loss = \"mse\",\n",
    "  metrics = 'mae')"
   ]
  },
  {
   "cell_type": "markdown",
   "metadata": {},
   "source": [
    "En el fit tenemos:\n",
    "+ Entrenamiento con 500 épocas. En este caso es necesario un mayor entrenamiento.\n",
    "+ Un validation split sobre el conjunto de train\n",
    "+ Early Stopping para evitar sobreajuste."
   ]
  },
  {
   "cell_type": "code",
   "execution_count": 16,
   "metadata": {},
   "outputs": [
    {
     "data": {
      "text/plain": [
       "Trained on 7,012 samples (batch_size=32, epochs=383)\n",
       "Final epoch (plot to see history):\n",
       "    loss: 25.37\n",
       "     mae: 2.098\n",
       "val_loss: 23.32\n",
       " val_mae: 2.072 "
      ]
     },
     "metadata": {},
     "output_type": "display_data"
    },
    {
     "data": {
      "image/png": "[encoded data removed]",
      "text/plain": [
       "plot without title"
      ]
     },
     "metadata": {
      "image/png": {
       "height": 420,
       "width": 420
      },
      "text/plain": {
       "height": 420,
       "width": 420
      }
     },
     "output_type": "display_data"
    }
   ],
   "source": [
    "history = model2 %>% fit(predictors_train, target_y_train, epochs = 500,validation_split=0.2,\n",
    "                        callbacks = callback_early_stopping(patience = 30))\n",
    "history\n",
    "plot(history)"
   ]
  },
  {
   "cell_type": "markdown",
   "metadata": {},
   "source": [
    "Observamos que el early stopping para el entrenamiento en la época 383, a partir de ahí tendriamos sobreajuste en nuestro modelo. Vemos que el mse y el mae de los conjuntos de train y validation son bastante similares, siendo incluso menores los de validation. Los valores que obtenemos de MAE no son muy grandes ya que rondan un valor cercano al 2. Sin embargo el MSE no es todo lo pequeño que quisieramos."
   ]
  },
  {
   "cell_type": "code",
   "execution_count": 17,
   "metadata": {},
   "outputs": [
    {
     "data": {
      "text/html": [
       "<dl>\n",
       "\t<dt>$loss</dt>\n",
       "\t\t<dd>33.0781495919193</dd>\n",
       "\t<dt>$mae</dt>\n",
       "\t\t<dd>2.14100003242493</dd>\n",
       "</dl>\n"
      ],
      "text/latex": [
       "\\begin{description}\n",
       "\\item[\\$loss] 33.0781495919193\n",
       "\\item[\\$mae] 2.14100003242493\n",
       "\\end{description}\n"
      ],
      "text/markdown": [
       "$loss\n",
       ":   33.0781495919193\n",
       "$mae\n",
       ":   2.14100003242493\n",
       "\n",
       "\n"
      ],
      "text/plain": [
       "$loss\n",
       "[1] 33.07815\n",
       "\n",
       "$mae\n",
       "[1] 2.141\n"
      ]
     },
     "metadata": {},
     "output_type": "display_data"
    }
   ],
   "source": [
    "model2 %>% evaluate(predictors_test,target_y_test,verbose = 0)"
   ]
  },
  {
   "cell_type": "markdown",
   "metadata": {},
   "source": [
    "El MAE es similar a lo obtenido en train, sin embargo el MSE es alto en comparación con lo obtenido en el entrenamiento"
   ]
  },
  {
   "cell_type": "code",
   "execution_count": 18,
   "metadata": {},
   "outputs": [],
   "source": [
    "model2 %>% save_model_hdf5(\"modelo_cant.h5\")"
   ]
  },
  {
   "cell_type": "markdown",
   "metadata": {},
   "source": [
    "# Combinación de la ocurrencia y cantidad"
   ]
  },
  {
   "cell_type": "markdown",
   "metadata": {},
   "source": [
    "Aquí vamos a observar si combinando los resultados anteriores tenemos un mejor resultado en la predicción de cantidad. Es una técnica común en precipitación ya que lo hemos realizado previamente en otras asignaturas. Para evaluar el error de predicción vamos a utilizar el Root Mean Square Error (RMSE). Con lo cual, multiplicamos ocurrencia x cantidad y evaluamos el error entre ese resultado y el y_test. Del mismo modo hacemos lo mismo con la predicción solamente con el modelo de cantidad y el y_test."
   ]
  },
  {
   "cell_type": "code",
   "execution_count": 19,
   "metadata": {},
   "outputs": [
    {
     "data": {
      "text/html": [
       "<table>\n",
       "<caption>A matrix: 6 × 1 of type dbl</caption>\n",
       "<tbody>\n",
       "\t<tr><td>1</td></tr>\n",
       "\t<tr><td>1</td></tr>\n",
       "\t<tr><td>1</td></tr>\n",
       "\t<tr><td>1</td></tr>\n",
       "\t<tr><td>1</td></tr>\n",
       "\t<tr><td>1</td></tr>\n",
       "</tbody>\n",
       "</table>\n"
      ],
      "text/latex": [
       "A matrix: 6 × 1 of type dbl\n",
       "\\begin{tabular}{l}\n",
       "\t 1\\\\\n",
       "\t 1\\\\\n",
       "\t 1\\\\\n",
       "\t 1\\\\\n",
       "\t 1\\\\\n",
       "\t 1\\\\\n",
       "\\end{tabular}\n"
      ],
      "text/markdown": [
       "\n",
       "A matrix: 6 × 1 of type dbl\n",
       "\n",
       "| 1 |\n",
       "| 1 |\n",
       "| 1 |\n",
       "| 1 |\n",
       "| 1 |\n",
       "| 1 |\n",
       "\n"
      ],
      "text/plain": [
       "     [,1]\n",
       "[1,] 1   \n",
       "[2,] 1   \n",
       "[3,] 1   \n",
       "[4,] 1   \n",
       "[5,] 1   \n",
       "[6,] 1   "
      ]
     },
     "metadata": {},
     "output_type": "display_data"
    }
   ],
   "source": [
    "occ = predict_classes(model1,predictors_test)\n",
    "head(occ)"
   ]
  },
  {
   "cell_type": "code",
   "execution_count": 20,
   "metadata": {},
   "outputs": [
    {
     "data": {
      "text/html": [
       "<table>\n",
       "<caption>A matrix: 6 × 1 of type dbl</caption>\n",
       "<tbody>\n",
       "\t<tr><td> 4.982473</td></tr>\n",
       "\t<tr><td> 7.321963</td></tr>\n",
       "\t<tr><td> 4.271374</td></tr>\n",
       "\t<tr><td> 3.617287</td></tr>\n",
       "\t<tr><td>11.086777</td></tr>\n",
       "\t<tr><td> 3.091226</td></tr>\n",
       "</tbody>\n",
       "</table>\n"
      ],
      "text/latex": [
       "A matrix: 6 × 1 of type dbl\n",
       "\\begin{tabular}{l}\n",
       "\t  4.982473\\\\\n",
       "\t  7.321963\\\\\n",
       "\t  4.271374\\\\\n",
       "\t  3.617287\\\\\n",
       "\t 11.086777\\\\\n",
       "\t  3.091226\\\\\n",
       "\\end{tabular}\n"
      ],
      "text/markdown": [
       "\n",
       "A matrix: 6 × 1 of type dbl\n",
       "\n",
       "|  4.982473 |\n",
       "|  7.321963 |\n",
       "|  4.271374 |\n",
       "|  3.617287 |\n",
       "| 11.086777 |\n",
       "|  3.091226 |\n",
       "\n"
      ],
      "text/plain": [
       "     [,1]     \n",
       "[1,]  4.982473\n",
       "[2,]  7.321963\n",
       "[3,]  4.271374\n",
       "[4,]  3.617287\n",
       "[5,] 11.086777\n",
       "[6,]  3.091226"
      ]
     },
     "metadata": {},
     "output_type": "display_data"
    }
   ],
   "source": [
    "cant = predict(model2,predictors_test)\n",
    "head(cant)"
   ]
  },
  {
   "cell_type": "code",
   "execution_count": 21,
   "metadata": {},
   "outputs": [],
   "source": [
    "combined = occ*cant"
   ]
  },
  {
   "cell_type": "code",
   "execution_count": 23,
   "metadata": {},
   "outputs": [],
   "source": [
    "rmse <- function(obs, pred) {\n",
    "  stopifnot(identical(length(obs), length(pred)))\n",
    "  sqrt(mean(pred - obs)^2)\n",
    "}"
   ]
  },
  {
   "cell_type": "code",
   "execution_count": 36,
   "metadata": {},
   "outputs": [
    {
     "data": {
      "text/html": [
       "<table>\n",
       "<caption>A matrix: 2 × 3 of type dbl</caption>\n",
       "<thead>\n",
       "\t<tr><th></th><th scope=col>rmse</th><th scope=col>spearman cor</th><th scope=col>variance ratio</th></tr>\n",
       "</thead>\n",
       "<tbody>\n",
       "\t<tr><th scope=row>Occ x Cant</th><td>0.5618244</td><td>0.6259277</td><td>0.2735677</td></tr>\n",
       "\t<tr><th scope=row>cant</th><td>0.1356118</td><td>0.5924332</td><td>0.2482172</td></tr>\n",
       "</tbody>\n",
       "</table>\n"
      ],
      "text/latex": [
       "A matrix: 2 × 3 of type dbl\n",
       "\\begin{tabular}{r|lll}\n",
       "  & rmse & spearman cor & variance ratio\\\\\n",
       "\\hline\n",
       "\tOcc x Cant & 0.5618244 & 0.6259277 & 0.2735677\\\\\n",
       "\tcant & 0.1356118 & 0.5924332 & 0.2482172\\\\\n",
       "\\end{tabular}\n"
      ],
      "text/markdown": [
       "\n",
       "A matrix: 2 × 3 of type dbl\n",
       "\n",
       "| <!--/--> | rmse | spearman cor | variance ratio |\n",
       "|---|---|---|---|\n",
       "| Occ x Cant | 0.5618244 | 0.6259277 | 0.2735677 |\n",
       "| cant | 0.1356118 | 0.5924332 | 0.2482172 |\n",
       "\n"
      ],
      "text/plain": [
       "           rmse      spearman cor variance ratio\n",
       "Occ x Cant 0.5618244 0.6259277    0.2735677     \n",
       "cant       0.1356118 0.5924332    0.2482172     "
      ]
     },
     "metadata": {},
     "output_type": "display_data"
    }
   ],
   "source": [
    "tabla = matrix(c(rmse(combined,target_y_test),cor(combined,target_y_test, method = 'spearman'),\n",
    "                var(combined)/var(target_y_test),rmse(cant,target_y_test),\n",
    "                cor(cant,target_y_test, method = 'spearman'),var(cant)/var(target_y_test)),ncol=3,byrow=TRUE)\n",
    "colnames(tabla) = c('rmse', 'spearman cor', 'variance ratio')\n",
    "rownames(tabla) = c('Occ x Cant', 'cant')\n",
    "tabla"
   ]
  },
  {
   "cell_type": "markdown",
   "metadata": {},
   "source": [
    "Notamos que practicamente se obtienen resultados similares en ambas aproximaciones. De hecho, hemos comprobado que tenemos aun así un menor error al utilizar la predicción solamente con el modelo de cantidad sin combinar la ocurrencia.\n",
    "\n",
    "Para una futura mejora del modelo podrían sugerirse varios cambios:\n",
    "\n",
    "+ Adquirir más datos y aumentar tiempos de entrenamiento\n",
    "+ Modificar la estructura de la red\n",
    "+ Realizar cambios en la regularización del modelo"
   ]
  },
  {
   "cell_type": "code",
   "execution_count": 76,
   "metadata": {},
   "outputs": [],
   "source": [
    "k_clear_session()"
   ]
  }
 ],
 "metadata": {
  "kernelspec": {
   "display_name": "R",
   "language": "R",
   "name": "ir"
  },
  "language_info": {
   "codemirror_mode": "r",
   "file_extension": ".r",
   "mimetype": "text/x-r-source",
   "name": "R",
   "pygments_lexer": "r",
   "version": "3.6.1"
  }
 },
 "nbformat": 4,
 "nbformat_minor": 2
}
